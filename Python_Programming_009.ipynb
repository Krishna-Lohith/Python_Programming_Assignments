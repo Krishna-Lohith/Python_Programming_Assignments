{
 "cells": [
  {
   "cell_type": "markdown",
   "id": "33f5bc24",
   "metadata": {},
   "source": [
    "# Python_Programming_Assignment_009"
   ]
  },
  {
   "cell_type": "markdown",
   "id": "3009e57e",
   "metadata": {},
   "source": [
    "**Topics covered:-**  \n",
    "Disarium numbers  \n",
    "Happy numbers    \n",
    "Harshad numbers   \n",
    "pronic numbers  "
   ]
  },
  {
   "cell_type": "markdown",
   "id": "28b6c8fc",
   "metadata": {},
   "source": [
    "=============================================================================================================="
   ]
  },
  {
   "cell_type": "markdown",
   "id": "b1725970",
   "metadata": {},
   "source": [
    "## 1. Write a Python program to check if the given number is a Disarium Number?\n",
    "\n",
    "A Disarium Number is a number where the sum of its digits raised to their respective positions is equal to the number itself. For example, 175 is a Disarium Number because 1^1 + 7^2 + 5^3 = 1 + 49 + 125 = 175."
   ]
  },
  {
   "cell_type": "code",
   "execution_count": 61,
   "id": "4f84f0d1",
   "metadata": {},
   "outputs": [
    {
     "name": "stdout",
     "output_type": "stream",
     "text": [
      "Disarium number 175\n"
     ]
    }
   ],
   "source": [
    "def q1(n:int)->int:\n",
    "    \"\"\"Program to check disarium number\"\"\"\n",
    "    try:\n",
    "        count = 0\n",
    "        x = 0\n",
    "        for i in str(n):\n",
    "            count += 1\n",
    "            t = int(i) ** int(count)\n",
    "            x = x + int(t)\n",
    "        if x == n:\n",
    "            print('Disarium number',x)\n",
    "        else:\n",
    "            print('Not a disarium number')\n",
    "    except Exception as e:\n",
    "        print(e)\n",
    "        \n",
    "q1(175)"
   ]
  },
  {
   "cell_type": "markdown",
   "id": "f88d02e9",
   "metadata": {},
   "source": [
    "=============================================================================================================="
   ]
  },
  {
   "cell_type": "markdown",
   "id": "4b574361",
   "metadata": {},
   "source": [
    "## 2. Write a Python program to print all disarium numbers between 1 to 100?"
   ]
  },
  {
   "cell_type": "code",
   "execution_count": 72,
   "id": "aba45685",
   "metadata": {},
   "outputs": [
    {
     "name": "stdout",
     "output_type": "stream",
     "text": [
      "Enter a number to check disarium number till a:- 200\n",
      "1\n",
      "2\n",
      "3\n",
      "4\n",
      "5\n",
      "6\n",
      "7\n",
      "8\n",
      "9\n",
      "89\n",
      "135\n",
      "175\n"
     ]
    }
   ],
   "source": [
    "def q2(n:int)->int:\n",
    "        try:\n",
    "            \"\"\"Program to check disarium number\"\"\"\n",
    "            count = 0\n",
    "            x = 0\n",
    "            for i in str(n):\n",
    "                count += 1\n",
    "                t = int(i) ** int(count)\n",
    "                x = x + int(t)\n",
    "            if x == n:\n",
    "                print(x)\n",
    "        except Exception as e:\n",
    "            print(e)\n",
    "            \n",
    "a = int(input('Enter a number to check disarium number till a:- '))\n",
    "for i in range(1,a):\n",
    "    if q2(i):\n",
    "        print(i)"
   ]
  },
  {
   "cell_type": "markdown",
   "id": "780043b4",
   "metadata": {},
   "source": [
    "=============================================================================================================="
   ]
  },
  {
   "cell_type": "markdown",
   "id": "bfdc37b1",
   "metadata": {},
   "source": [
    "## 3. Write a Python program to check if the given number is Happy Number?"
   ]
  },
  {
   "cell_type": "markdown",
   "id": "d67f24c1",
   "metadata": {},
   "source": [
    "A happy number is a positive integer where the sum of the squares of its digits, when iteratively computed, eventually reaches 1. In other words, a number is a happy number if the sum of the squares of its digits leads to 1 after repeatedly calculating the sum of the squares of its digits.\n",
    "\n",
    "For example, 19 is a happy number, because:\n",
    "\n",
    "1^2 + 9^2 = 82  \n",
    "8^2 + 2^2 = 68  \n",
    "6^2 + 8^2 = 100  \n",
    "1^2 + 0^2 + 0^2 = 1  "
   ]
  },
  {
   "cell_type": "code",
   "execution_count": 24,
   "id": "f1ea81ba",
   "metadata": {},
   "outputs": [
    {
     "name": "stdout",
     "output_type": "stream",
     "text": [
      "Happy number\n"
     ]
    }
   ],
   "source": [
    "def q3(n, depth=10):\n",
    "    s = str(n)\n",
    "    length = len(s)\n",
    "    x = 0\n",
    "    for i in s:\n",
    "        t = int(i)**int(length)\n",
    "        x = x + int(t)\n",
    "    if x == 1:\n",
    "        print('Happy number')\n",
    "    elif depth == 0:\n",
    "        print('Not a happy number')\n",
    "    else:\n",
    "        q3(x, depth-1)\n",
    "    \n",
    "q3(19)"
   ]
  },
  {
   "cell_type": "markdown",
   "id": "58076830",
   "metadata": {},
   "source": [
    "=============================================================================================================="
   ]
  },
  {
   "cell_type": "markdown",
   "id": "6ce7eb20",
   "metadata": {},
   "source": [
    "## 4. Write a Python program to print all happy numbers between 1 and 100?"
   ]
  },
  {
   "cell_type": "code",
   "execution_count": 6,
   "id": "01692da7",
   "metadata": {},
   "outputs": [
    {
     "name": "stdout",
     "output_type": "stream",
     "text": [
      "The happy numbers between 1 and 100 are:\n",
      "[1, 10, 13, 19, 23, 28, 31, 32, 44, 49, 68, 70, 79, 82, 86, 91, 94, 97, 100]\n"
     ]
    }
   ],
   "source": [
    "def q4(n, depth=10):\n",
    "    s = str(n)\n",
    "    length = len(s)\n",
    "    x = 0\n",
    "    for i in s:\n",
    "        t = int(i)**int(length)\n",
    "        x = x + int(t)\n",
    "    if x == 1:\n",
    "        return n\n",
    "    elif depth == 0:\n",
    "        return False\n",
    "    else:\n",
    "        return q4(x, depth-1)\n",
    "\n",
    "happy_numbers = []\n",
    "for i in range(1, 101):\n",
    "    if q4(i):\n",
    "        happy_numbers.append(i)\n",
    "\n",
    "print(\"The happy numbers between 1 and 100 are:\")\n",
    "print(happy_numbers)\n"
   ]
  },
  {
   "cell_type": "markdown",
   "id": "ce4dddf8",
   "metadata": {},
   "source": [
    "=============================================================================================================="
   ]
  },
  {
   "cell_type": "markdown",
   "id": "7fda19e9",
   "metadata": {},
   "source": [
    "## 5. Write a Python program to determine whether the given number is a Harshad Number?\n",
    "\n",
    "A Harshad number, also called a Niven number, is a positive integer that is divisible by the sum of its digits. In other words, if we take the sum of the digits of a Harshad number, and divide the number by this sum, the result is an integer without remainder.\n",
    "\n",
    "For example, 18 is a Harshad number because its digits sum to 9 (1+8=9), and 18 is divisible by 9 without remainder, as 18/9=2.\n",
    "\n",
    "Other examples of Harshad numbers are 1, 2, 3, 4, 5, 6, 7, 8, 9, 10, 12, 18, 20, 21, 24, 27, 30, 36, 40, 42, 45, 48, 50, 54, 60, 63, 70, 72, 80, 81, 84, 90, 100, and so on."
   ]
  },
  {
   "cell_type": "code",
   "execution_count": 48,
   "id": "3cdef4de",
   "metadata": {},
   "outputs": [
    {
     "name": "stdout",
     "output_type": "stream",
     "text": [
      "Harshad number\n"
     ]
    }
   ],
   "source": [
    "def q5(n):\n",
    "    s = str(n)\n",
    "    c = 0\n",
    "    for i in s:\n",
    "        c = c + int(i)\n",
    "    r = n%c\n",
    "    if r == 0 and r%2==0 :\n",
    "        print('Harshad number')\n",
    "    else:\n",
    "        print('Not a Harshad number')\n",
    "\n",
    "q5(18)"
   ]
  },
  {
   "cell_type": "code",
   "execution_count": 14,
   "id": "7df94542",
   "metadata": {},
   "outputs": [
    {
     "name": "stdout",
     "output_type": "stream",
     "text": [
      "Enter a maximum number:- 30\n",
      "Harshad numbers between 1 and 30 are:- \n",
      "[1, 2, 3, 4, 5, 6, 7, 8, 9, 10, 12, 18, 20, 21, 24, 27]\n"
     ]
    }
   ],
   "source": [
    "def q5(n):\n",
    "    s = str(n)\n",
    "    c = 0\n",
    "    for i in s:\n",
    "        c = c + int(i)\n",
    "    r = n%c\n",
    "    if r == 0 and r%2==0 :\n",
    "        return n\n",
    "    else:\n",
    "        return False\n",
    "    \n",
    "l = []\n",
    "maxi = int(input('Enter a maximum number:- '))\n",
    "for i in range(1,maxi):\n",
    "    if q5(i):\n",
    "        l.append(i)\n",
    "print(f'Harshad numbers between 1 and {maxi} are:- ')\n",
    "print(l)\n"
   ]
  },
  {
   "cell_type": "markdown",
   "id": "d8c9966d",
   "metadata": {},
   "source": [
    "=============================================================================================================="
   ]
  },
  {
   "cell_type": "markdown",
   "id": "90ea8eee",
   "metadata": {},
   "source": [
    "## 6. Write a Python program to print all pronic numbers between 1 and 100?\n",
    "\n",
    "A pronic number is a composite number that is the product of two consecutive integers. In other words, a pronic number is the result of multiplying an integer by its immediate successor. For example, 6 is a pronic number because it is the product of 2 and 3, which are consecutive integers. The first few pronic numbers are:\n",
    "\n",
    "0, 2, 6, 12, 20, 30, 42, 56, 72, 90, 110, 132"
   ]
  },
  {
   "cell_type": "code",
   "execution_count": 4,
   "id": "e10cc72c",
   "metadata": {},
   "outputs": [
    {
     "data": {
      "text/plain": [
       "[2, 6, 12, 20, 30, 42, 56, 72, 90]"
      ]
     },
     "execution_count": 4,
     "metadata": {},
     "output_type": "execute_result"
    }
   ],
   "source": [
    "def q6(maxi):\n",
    "    pronic_numbers = []\n",
    "    for i in range(1, maxi):\n",
    "        for j in range(1, i):\n",
    "            if i == j * (j + 1):\n",
    "                pronic_numbers.append(i)\n",
    "    return pronic_numbers\n",
    "\n",
    "q6(100)"
   ]
  },
  {
   "cell_type": "markdown",
   "id": "0640f828",
   "metadata": {},
   "source": [
    "=============================================================================================================="
   ]
  }
 ],
 "metadata": {
  "kernelspec": {
   "display_name": "Python 3",
   "language": "python",
   "name": "python3"
  },
  "language_info": {
   "codemirror_mode": {
    "name": "ipython",
    "version": 3
   },
   "file_extension": ".py",
   "mimetype": "text/x-python",
   "name": "python",
   "nbconvert_exporter": "python",
   "pygments_lexer": "ipython3",
   "version": "3.6.2"
  }
 },
 "nbformat": 4,
 "nbformat_minor": 5
}
