{
 "cells": [
  {
   "cell_type": "markdown",
   "id": "89620817",
   "metadata": {},
   "source": [
    "# Python_Programming_Assignment_010"
   ]
  },
  {
   "cell_type": "markdown",
   "id": "f0c2524a",
   "metadata": {},
   "source": [
    "**Concepts used:-**  \n",
    "Lists  \n",
    "functions  "
   ]
  },
  {
   "cell_type": "markdown",
   "id": "e270dec5",
   "metadata": {},
   "source": [
    "=============================================================================================================="
   ]
  },
  {
   "cell_type": "markdown",
   "id": "67914f52",
   "metadata": {},
   "source": [
    "## 1. Write a Python program to find sum of elements in list?"
   ]
  },
  {
   "cell_type": "code",
   "execution_count": 2,
   "id": "b6327cce",
   "metadata": {},
   "outputs": [
    {
     "data": {
      "text/plain": [
       "198"
      ]
     },
     "execution_count": 2,
     "metadata": {},
     "output_type": "execute_result"
    }
   ],
   "source": [
    "# Sum of elements in a list using built in function\n",
    "\n",
    "l = [23,24,53,64,34]\n",
    "sum(l)"
   ]
  },
  {
   "cell_type": "code",
   "execution_count": 3,
   "id": "f79dc4d0",
   "metadata": {},
   "outputs": [
    {
     "data": {
      "text/plain": [
       "198"
      ]
     },
     "execution_count": 3,
     "metadata": {},
     "output_type": "execute_result"
    }
   ],
   "source": [
    "# Sum of elements in a list\n",
    "\n",
    "def q1(l):\n",
    "    try:\n",
    "        s=0\n",
    "        for i in l:\n",
    "            s = s+i\n",
    "        return s\n",
    "    except Exception as e:\n",
    "        print(e)\n",
    "\n",
    "q1([23,24,53,64,34])"
   ]
  },
  {
   "cell_type": "markdown",
   "id": "47d551dc",
   "metadata": {},
   "source": [
    "=============================================================================================================="
   ]
  },
  {
   "cell_type": "markdown",
   "id": "ecd4bedc",
   "metadata": {},
   "source": [
    "## 2. Write a Python program to Multiply all numbers in the list?"
   ]
  },
  {
   "cell_type": "code",
   "execution_count": 11,
   "id": "f274c8be",
   "metadata": {},
   "outputs": [
    {
     "data": {
      "text/plain": [
       "720"
      ]
     },
     "execution_count": 11,
     "metadata": {},
     "output_type": "execute_result"
    }
   ],
   "source": [
    "# Multiply \n",
    "\n",
    "def q2(l):\n",
    "    try:\n",
    "        s=1\n",
    "        for i in l:\n",
    "            s = s*i\n",
    "        return s\n",
    "    except Exception as e:\n",
    "        print(e)\n",
    "\n",
    "q2([1,2,3,4,5,6])"
   ]
  },
  {
   "cell_type": "markdown",
   "id": "3a4b9e87",
   "metadata": {},
   "source": [
    "=============================================================================================================="
   ]
  },
  {
   "cell_type": "markdown",
   "id": "3f6d5d66",
   "metadata": {},
   "source": [
    "## 3. Write a Python program to find smallest number in a list?"
   ]
  },
  {
   "cell_type": "code",
   "execution_count": 4,
   "id": "a6a57b9b",
   "metadata": {},
   "outputs": [
    {
     "data": {
      "text/plain": [
       "2"
      ]
     },
     "execution_count": 4,
     "metadata": {},
     "output_type": "execute_result"
    }
   ],
   "source": [
    "# Smallest number in a list\n",
    "\n",
    "def q3(l):\n",
    "    try:\n",
    "        s1 = l[0]\n",
    "        for i in l:\n",
    "            if i < s1:\n",
    "                s1 = i\n",
    "        return s1\n",
    "    except Exception as e:\n",
    "        print(e)\n",
    "        \n",
    "q3([4,100,6,2,8,69])"
   ]
  },
  {
   "cell_type": "code",
   "execution_count": 20,
   "id": "e9469e5b",
   "metadata": {},
   "outputs": [
    {
     "data": {
      "text/plain": [
       "3"
      ]
     },
     "execution_count": 20,
     "metadata": {},
     "output_type": "execute_result"
    }
   ],
   "source": [
    "l = [4,535,463,3]\n",
    "l.sort()\n",
    "l[0]"
   ]
  },
  {
   "cell_type": "code",
   "execution_count": 22,
   "id": "18d848b8",
   "metadata": {},
   "outputs": [
    {
     "data": {
      "text/plain": [
       "3"
      ]
     },
     "execution_count": 22,
     "metadata": {},
     "output_type": "execute_result"
    }
   ],
   "source": [
    "l = [4,535,463,3]\n",
    "min(l)"
   ]
  },
  {
   "cell_type": "markdown",
   "id": "ef2df38d",
   "metadata": {},
   "source": [
    "=============================================================================================================="
   ]
  },
  {
   "cell_type": "markdown",
   "id": "184d3363",
   "metadata": {},
   "source": [
    "## 4. Write a Python program to find largest number in a list?"
   ]
  },
  {
   "cell_type": "code",
   "execution_count": 9,
   "id": "3d63fa93",
   "metadata": {},
   "outputs": [
    {
     "data": {
      "text/plain": [
       "552"
      ]
     },
     "execution_count": 9,
     "metadata": {},
     "output_type": "execute_result"
    }
   ],
   "source": [
    "# Largest number in a list\n",
    "\n",
    "def q4(l):\n",
    "    try:\n",
    "        n = l[0]\n",
    "        for i in l:\n",
    "            if i>n:\n",
    "                n = i\n",
    "        return n\n",
    "    except Exception as e:\n",
    "        print(e)\n",
    "    \n",
    "q4([4,3,1,552,234,54])"
   ]
  },
  {
   "cell_type": "code",
   "execution_count": 19,
   "id": "12fa242a",
   "metadata": {},
   "outputs": [
    {
     "data": {
      "text/plain": [
       "552"
      ]
     },
     "execution_count": 19,
     "metadata": {},
     "output_type": "execute_result"
    }
   ],
   "source": [
    "l =[4,3,1,552,234,54]\n",
    "l.sort()\n",
    "l[-1]"
   ]
  },
  {
   "cell_type": "code",
   "execution_count": 21,
   "id": "36a5185d",
   "metadata": {},
   "outputs": [
    {
     "data": {
      "text/plain": [
       "552"
      ]
     },
     "execution_count": 21,
     "metadata": {},
     "output_type": "execute_result"
    }
   ],
   "source": [
    "l =[4,3,1,552,234,54]\n",
    "max(l)"
   ]
  },
  {
   "cell_type": "markdown",
   "id": "522a7916",
   "metadata": {},
   "source": [
    "=============================================================================================================="
   ]
  },
  {
   "cell_type": "markdown",
   "id": "d1138495",
   "metadata": {},
   "source": [
    "## 5. Write a Python program to find second largest number in a list?"
   ]
  },
  {
   "cell_type": "code",
   "execution_count": 30,
   "id": "16918853",
   "metadata": {},
   "outputs": [
    {
     "data": {
      "text/plain": [
       "234"
      ]
     },
     "execution_count": 30,
     "metadata": {},
     "output_type": "execute_result"
    }
   ],
   "source": [
    "# Second largest number \n",
    "\n",
    "def q5(l):\n",
    "    try:\n",
    "        l.sort()\n",
    "        return l[-2]\n",
    "    except Exception as e:\n",
    "        print(e)\n",
    "        \n",
    "q5([4,3,50,1,552,234,54])"
   ]
  },
  {
   "cell_type": "markdown",
   "id": "b10fd55d",
   "metadata": {},
   "source": [
    "=============================================================================================================="
   ]
  },
  {
   "cell_type": "markdown",
   "id": "7980e21a",
   "metadata": {},
   "source": [
    "## 6. Write a Python program to find N largest elements from a list?"
   ]
  },
  {
   "cell_type": "code",
   "execution_count": 34,
   "id": "5c77c1b2",
   "metadata": {},
   "outputs": [
    {
     "data": {
      "text/plain": [
       "54"
      ]
     },
     "execution_count": 34,
     "metadata": {},
     "output_type": "execute_result"
    }
   ],
   "source": [
    "# n largest number \n",
    "\n",
    "def q6(l, n):\n",
    "    try:\n",
    "        l.sort()\n",
    "        return l[-n]\n",
    "    except Exception as e:\n",
    "        print(e)\n",
    "        \n",
    "q6([4,3,50,1,552,234,54],3)"
   ]
  },
  {
   "cell_type": "markdown",
   "id": "b616e02d",
   "metadata": {},
   "source": [
    "=============================================================================================================="
   ]
  },
  {
   "cell_type": "markdown",
   "id": "95586586",
   "metadata": {},
   "source": [
    "## 7. Write a Python program to print even numbers in a list?"
   ]
  },
  {
   "cell_type": "code",
   "execution_count": 47,
   "id": "246ca6e0",
   "metadata": {},
   "outputs": [
    {
     "data": {
      "text/plain": [
       "[4, 0, 6, 2]"
      ]
     },
     "execution_count": 47,
     "metadata": {},
     "output_type": "execute_result"
    }
   ],
   "source": [
    "# even numbers in a list\n",
    "\n",
    "def q7(l):\n",
    "    \"\"\"Function to print even numbers in a list\"\"\"\n",
    "    try:\n",
    "        t = []\n",
    "        for i in l:\n",
    "            if i%2==0:\n",
    "                t.append(i)\n",
    "        return t\n",
    "    except Exception as e:\n",
    "        print(e)\n",
    "        \n",
    "q7([9,4,0,5,7,1,6,2])"
   ]
  },
  {
   "cell_type": "markdown",
   "id": "320f9782",
   "metadata": {},
   "source": [
    "=============================================================================================================="
   ]
  },
  {
   "cell_type": "markdown",
   "id": "fe41d21b",
   "metadata": {},
   "source": [
    "## 8. Write a Python program to print odd numbers in a List?"
   ]
  },
  {
   "cell_type": "code",
   "execution_count": 48,
   "id": "e130cbe8",
   "metadata": {},
   "outputs": [
    {
     "data": {
      "text/plain": [
       "[9, 5, 7, 1]"
      ]
     },
     "execution_count": 48,
     "metadata": {},
     "output_type": "execute_result"
    }
   ],
   "source": [
    "# odd numbers in a list\n",
    "\n",
    "def q8(l):\n",
    "    \"\"\"Function to print odd numbers in a list\"\"\"\n",
    "    try:\n",
    "        t = []\n",
    "        for i in l:\n",
    "            if i%2!=0:\n",
    "                t.append(i)\n",
    "        return t\n",
    "    except Exception as e:\n",
    "        print(e)\n",
    "        \n",
    "q8([9,4,0,5,7,1,6,2])"
   ]
  },
  {
   "cell_type": "markdown",
   "id": "1266860d",
   "metadata": {},
   "source": [
    "=============================================================================================================="
   ]
  },
  {
   "cell_type": "markdown",
   "id": "78410b94",
   "metadata": {},
   "source": [
    "## 9. Write a Python program to Remove empty List from List?"
   ]
  },
  {
   "cell_type": "code",
   "execution_count": 79,
   "id": "1120966a",
   "metadata": {},
   "outputs": [
    {
     "data": {
      "text/plain": [
       "[4, 52, [134, 74, 24], [24, 52]]"
      ]
     },
     "execution_count": 79,
     "metadata": {},
     "output_type": "execute_result"
    }
   ],
   "source": [
    "def q9(l:list)->list:\n",
    "    \"\"\" Python Program to remove empty list inside a list.\"\"\"\n",
    "    try:\n",
    "        for i in l:\n",
    "            if type(i) == list:\n",
    "                if len(i) == 0:\n",
    "                    r = l.index(i)\n",
    "                    l.pop(r)\n",
    "        return l\n",
    "    except Exception as e:\n",
    "        print(e)\n",
    "            \n",
    "l = [ 4,52,[ ],[134,74,24],[ ],[24,52],[ ] ]\n",
    "q9(l)"
   ]
  },
  {
   "cell_type": "markdown",
   "id": "51c0e4e2",
   "metadata": {},
   "source": [
    "=============================================================================================================="
   ]
  },
  {
   "cell_type": "markdown",
   "id": "cad7866e",
   "metadata": {},
   "source": [
    "## 10. Write a Python program to Cloning or Copying a list?"
   ]
  },
  {
   "cell_type": "code",
   "execution_count": 91,
   "id": "31f60bc9",
   "metadata": {},
   "outputs": [
    {
     "data": {
      "text/plain": [
       "[4, 25, 75, 24, 5]"
      ]
     },
     "execution_count": 91,
     "metadata": {},
     "output_type": "execute_result"
    }
   ],
   "source": [
    "l = [4,25,75,24,5]\n",
    "t = l.copy()\n",
    "t"
   ]
  },
  {
   "cell_type": "markdown",
   "id": "ce0ce32f",
   "metadata": {},
   "source": [
    "=============================================================================================================="
   ]
  },
  {
   "cell_type": "markdown",
   "id": "62a8de39",
   "metadata": {},
   "source": [
    "## 11. Write a Python program to Count occurrences of an element in a list?"
   ]
  },
  {
   "cell_type": "code",
   "execution_count": 98,
   "id": "90e46f20",
   "metadata": {},
   "outputs": [
    {
     "name": "stdout",
     "output_type": "stream",
     "text": [
      "3 2\n",
      "7 1\n",
      "3 2\n",
      "9 2\n",
      "2 1\n",
      "9 2\n"
     ]
    }
   ],
   "source": [
    "l = [3,7,3,9,2,9]\n",
    "for i in l:\n",
    "    x = l.count(i)\n",
    "    print(i,x)"
   ]
  },
  {
   "cell_type": "markdown",
   "id": "195e69f1",
   "metadata": {},
   "source": [
    "=============================================================================================================="
   ]
  }
 ],
 "metadata": {
  "kernelspec": {
   "display_name": "Python 3",
   "language": "python",
   "name": "python3"
  },
  "language_info": {
   "codemirror_mode": {
    "name": "ipython",
    "version": 3
   },
   "file_extension": ".py",
   "mimetype": "text/x-python",
   "name": "python",
   "nbconvert_exporter": "python",
   "pygments_lexer": "ipython3",
   "version": "3.6.2"
  }
 },
 "nbformat": 4,
 "nbformat_minor": 5
}
