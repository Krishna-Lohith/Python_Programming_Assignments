{
 "cells": [
  {
   "cell_type": "markdown",
   "id": "0c0a1180",
   "metadata": {},
   "source": [
    "# Python_Programming_Assignment_012"
   ]
  },
  {
   "cell_type": "markdown",
   "id": "3b217c58",
   "metadata": {},
   "source": [
    "**Concepts used:-**  \n",
    "Dictionaries  \n",
    "\n",
    "**Topics covered**:-  \n",
    "Indexng  \n",
    "Slicing  \n",
    "Merging  \n",
    "Sorting  \n",
    "Insertion  \n",
    "Convertion  "
   ]
  },
  {
   "cell_type": "markdown",
   "id": "ad00ce18",
   "metadata": {},
   "source": [
    "=============================================================================================================="
   ]
  },
  {
   "cell_type": "markdown",
   "id": "2fe985d7",
   "metadata": {},
   "source": [
    "## 1. Write a Python program to Extract Unique values dictionary values?"
   ]
  },
  {
   "cell_type": "code",
   "execution_count": 12,
   "id": "04b3bffd",
   "metadata": {},
   "outputs": [
    {
     "data": {
      "text/plain": [
       "{1, 2}"
      ]
     },
     "execution_count": 12,
     "metadata": {},
     "output_type": "execute_result"
    }
   ],
   "source": [
    "d = {'a':1,'b':2,'c':1,'d':2}\n",
    "v = d.values()\n",
    "s = set(v)\n",
    "s"
   ]
  },
  {
   "cell_type": "markdown",
   "id": "482486a8",
   "metadata": {},
   "source": [
    "=============================================================================================================="
   ]
  },
  {
   "cell_type": "markdown",
   "id": "5a665cf6",
   "metadata": {},
   "source": [
    "## 2. Write a Python program to find the sum of all items in a dictionary?"
   ]
  },
  {
   "cell_type": "code",
   "execution_count": 16,
   "id": "1a9b4a87",
   "metadata": {},
   "outputs": [
    {
     "data": {
      "text/plain": [
       "57"
      ]
     },
     "execution_count": 16,
     "metadata": {},
     "output_type": "execute_result"
    }
   ],
   "source": [
    "d = {'a':1,'b':2,'c':10,'d':44}\n",
    "sum(d.values())"
   ]
  },
  {
   "cell_type": "markdown",
   "id": "eedcfdf2",
   "metadata": {},
   "source": [
    "=============================================================================================================="
   ]
  },
  {
   "cell_type": "markdown",
   "id": "949eb933",
   "metadata": {},
   "source": [
    "## 3. Write a Python program to Merging two Dictionaries?"
   ]
  },
  {
   "cell_type": "code",
   "execution_count": 29,
   "id": "598deb5f",
   "metadata": {},
   "outputs": [
    {
     "data": {
      "text/plain": [
       "{'first name': 'krishna',\n",
       " 'last name': 'Lohith',\n",
       " 'age': 24,\n",
       " 'city': 'Hyderabad',\n",
       " 'status': 'single',\n",
       " 'insta id': 'krishna._.lohith'}"
      ]
     },
     "execution_count": 29,
     "metadata": {},
     "output_type": "execute_result"
    }
   ],
   "source": [
    "d1 = {'first name':'krishna','last name':'Lohith','age':24}\n",
    "d2 = {'city':'Hyderabad','status':'single','insta id':'krishna._.lohith'}\n",
    "d1.update(d2)\n",
    "d1"
   ]
  },
  {
   "cell_type": "markdown",
   "id": "4695196b",
   "metadata": {},
   "source": [
    "=============================================================================================================="
   ]
  },
  {
   "cell_type": "markdown",
   "id": "297c9d33",
   "metadata": {},
   "source": [
    "## 4. Write a Python program to convert key-values list to flat dictionary?"
   ]
  },
  {
   "cell_type": "code",
   "execution_count": 76,
   "id": "86c3dc07",
   "metadata": {},
   "outputs": [
    {
     "data": {
      "text/plain": [
       "{'a': 1, 'b': 2, 'c': 3}"
      ]
     },
     "execution_count": 76,
     "metadata": {},
     "output_type": "execute_result"
    }
   ],
   "source": [
    "def q4(l):\n",
    "    d = {}\n",
    "    for i in range(0,len(l),2):\n",
    "        if i < len(l) -1:\n",
    "            d[l[i]] = l[i+1]\n",
    "    return d\n",
    "q4(['a',1,'b',2,'c',3,'d'])"
   ]
  },
  {
   "cell_type": "markdown",
   "id": "0bd7db17",
   "metadata": {},
   "source": [
    "=============================================================================================================="
   ]
  },
  {
   "cell_type": "markdown",
   "id": "553bf72d",
   "metadata": {},
   "source": [
    "## 5. Write a Python program to insertion at the beginning in OrderedDict?\n",
    "\n",
    "The ** operator is used to unpack the sorted dictionary into key-value pairs, and then we add the new key-value pair at the beginning of the resulting dictionary."
   ]
  },
  {
   "cell_type": "code",
   "execution_count": 25,
   "id": "cbcd11e6",
   "metadata": {},
   "outputs": [],
   "source": [
    "#ordering dictionary\n",
    "d = {'b': 2, 'a': 1, 'c': 3}\n",
    "sorted_keys = sorted(d)  # a,b,c\n",
    "ed = {}\n",
    "for key in sorted_keys:\n",
    "    ed[key] = d[key]"
   ]
  },
  {
   "cell_type": "code",
   "execution_count": 26,
   "id": "427ff3b5",
   "metadata": {},
   "outputs": [
    {
     "data": {
      "text/plain": [
       "{'a': 1, 'b': 2, 'c': 3}"
      ]
     },
     "execution_count": 26,
     "metadata": {},
     "output_type": "execute_result"
    }
   ],
   "source": [
    "ed"
   ]
  },
  {
   "cell_type": "code",
   "execution_count": 27,
   "id": "9a599910",
   "metadata": {},
   "outputs": [],
   "source": [
    "ed = {'z':26,**ed}"
   ]
  },
  {
   "cell_type": "code",
   "execution_count": 29,
   "id": "7605254d",
   "metadata": {},
   "outputs": [
    {
     "data": {
      "text/plain": [
       "{'z': 26, 'a': 1, 'b': 2, 'c': 3}"
      ]
     },
     "execution_count": 29,
     "metadata": {},
     "output_type": "execute_result"
    }
   ],
   "source": [
    "ed"
   ]
  },
  {
   "cell_type": "code",
   "execution_count": 34,
   "id": "7ad82f6c",
   "metadata": {},
   "outputs": [
    {
     "name": "stdout",
     "output_type": "stream",
     "text": [
      "Original OrderedDict:\n",
      "OrderedDict([('a', 1), ('b', 2), ('c', 3)])\n",
      "\n",
      "OrderedDict after inserting 'z' at the beginning:\n",
      "{'z': 26, 'a': 1, 'b': 2, 'c': 3}\n"
     ]
    }
   ],
   "source": [
    "#using ordered dictionary\n",
    "\n",
    "from collections import OrderedDict\n",
    "\n",
    "# create an empty ordered dictionary\n",
    "od = OrderedDict()\n",
    "\n",
    "# insert some items\n",
    "od['a'] = 1\n",
    "od['b'] = 2\n",
    "od['c'] = 3\n",
    "\n",
    "# print the original ordered dictionary\n",
    "print(\"Original OrderedDict:\")\n",
    "print(od)\n",
    "\n",
    "# insert a new item at the beginning\n",
    "od = {'z':26,**od}\n",
    "\n",
    "# print the updated ordered dictionary\n",
    "print(\"\\nOrderedDict after inserting 'z' at the beginning:\")\n",
    "print(od)\n"
   ]
  },
  {
   "cell_type": "markdown",
   "id": "12ca1bde",
   "metadata": {},
   "source": [
    "=============================================================================================================="
   ]
  },
  {
   "cell_type": "markdown",
   "id": "34430ea3",
   "metadata": {},
   "source": [
    "## 6. Write a Python program to check order of character in string using OrderedDict()?"
   ]
  },
  {
   "cell_type": "code",
   "execution_count": 49,
   "id": "364fab3c",
   "metadata": {},
   "outputs": [
    {
     "name": "stdout",
     "output_type": "stream",
     "text": [
      "True\n"
     ]
    }
   ],
   "source": [
    "from collections import OrderedDict\n",
    "\n",
    "def check_order(string, pattern):\n",
    "    # create an OrderedDict from the characters in the string\n",
    "    dict = OrderedDict.fromkeys(string)\n",
    "\n",
    "    # initialize a pointer to the start of the pattern\n",
    "    ptr = 0\n",
    "\n",
    "    # iterate over the keys in the OrderedDict\n",
    "    for key in dict:\n",
    "        # if we've reached the end of the pattern, break out of the loop\n",
    "        if ptr == len(pattern):\n",
    "            break\n",
    "\n",
    "        # if the current key matches the current character in the pattern,\n",
    "        # move the pointer to the next character in the pattern\n",
    "        if key == pattern[ptr]:\n",
    "            ptr += 1\n",
    "\n",
    "    # if we've reached the end of the pattern, the order is correct\n",
    "    if ptr == len(pattern):\n",
    "        return True\n",
    "    else:\n",
    "        return False\n",
    "\n",
    "# example usage\n",
    "string = 'hello world'\n",
    "pattern = 'howd'\n",
    "result = check_order(string, pattern)\n",
    "print(result) # output: True\n"
   ]
  },
  {
   "cell_type": "markdown",
   "id": "e9a31c7d",
   "metadata": {},
   "source": [
    "=============================================================================================================="
   ]
  },
  {
   "cell_type": "markdown",
   "id": "a6c1397f",
   "metadata": {},
   "source": [
    "## 7. Write a Python program to sort Python Dictionaries by Key or Value?"
   ]
  },
  {
   "cell_type": "code",
   "execution_count": 64,
   "id": "1100a2f1",
   "metadata": {},
   "outputs": [],
   "source": [
    "d = {'apple': 5, 'banana': 2, 'orange': 4, 'kiwi': 3, 'grape': 1}"
   ]
  },
  {
   "cell_type": "code",
   "execution_count": 65,
   "id": "60d31434",
   "metadata": {},
   "outputs": [
    {
     "data": {
      "text/plain": [
       "{'apple': 5, 'banana': 2, 'grape': 1, 'kiwi': 3, 'orange': 4}"
      ]
     },
     "execution_count": 65,
     "metadata": {},
     "output_type": "execute_result"
    }
   ],
   "source": [
    "#sorted by keys\n",
    "dict(sorted(d.items()))"
   ]
  },
  {
   "cell_type": "code",
   "execution_count": 66,
   "id": "9fd89162",
   "metadata": {},
   "outputs": [
    {
     "data": {
      "text/plain": [
       "{'grape': 1, 'banana': 2, 'kiwi': 3, 'orange': 4, 'apple': 5}"
      ]
     },
     "execution_count": 66,
     "metadata": {},
     "output_type": "execute_result"
    }
   ],
   "source": [
    "#sorted by values\n",
    "s = dict(sorted(d.items()))\n",
    "dict(sorted(s.items(), key=lambda x: x[1]))"
   ]
  },
  {
   "cell_type": "markdown",
   "id": "daec3219",
   "metadata": {},
   "source": [
    "=============================================================================================================="
   ]
  }
 ],
 "metadata": {
  "kernelspec": {
   "display_name": "Python 3",
   "language": "python",
   "name": "python3"
  },
  "language_info": {
   "codemirror_mode": {
    "name": "ipython",
    "version": 3
   },
   "file_extension": ".py",
   "mimetype": "text/x-python",
   "name": "python",
   "nbconvert_exporter": "python",
   "pygments_lexer": "ipython3",
   "version": "3.6.2"
  }
 },
 "nbformat": 4,
 "nbformat_minor": 5
}
