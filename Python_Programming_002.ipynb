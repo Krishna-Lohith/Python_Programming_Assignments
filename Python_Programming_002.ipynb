{
 "cells": [
  {
   "cell_type": "markdown",
   "id": "d819622f",
   "metadata": {},
   "source": [
    "# Python_Programming_Assignment__002"
   ]
  },
  {
   "cell_type": "markdown",
   "id": "f58212b5",
   "metadata": {},
   "source": [
    "Concepts used:-   \n",
    "operators  \n",
    "calender  "
   ]
  },
  {
   "cell_type": "markdown",
   "id": "294973d4",
   "metadata": {},
   "source": [
    "=============================================================================================================="
   ]
  },
  {
   "cell_type": "markdown",
   "id": "f4cf4656",
   "metadata": {},
   "source": [
    "## 1. Write a Python program to convert kilometers to miles?"
   ]
  },
  {
   "cell_type": "code",
   "execution_count": 2,
   "id": "27e0f1b7",
   "metadata": {},
   "outputs": [
    {
     "data": {
      "text/plain": [
       "1.242742"
      ]
     },
     "execution_count": 2,
     "metadata": {},
     "output_type": "execute_result"
    }
   ],
   "source": [
    "def q1(a):\n",
    "    \"\"\"\n",
    "    Enter kilometers to get miles\n",
    "    \"\"\"\n",
    "    return a * 0.621371\n",
    "q1(2)"
   ]
  },
  {
   "cell_type": "markdown",
   "id": "6e1406dc",
   "metadata": {},
   "source": [
    "=============================================================================================================="
   ]
  },
  {
   "cell_type": "markdown",
   "id": "3b9629e8",
   "metadata": {},
   "source": [
    "## 2. Write a Python program to convert Celsius to Fahrenheit?"
   ]
  },
  {
   "cell_type": "code",
   "execution_count": 6,
   "id": "a35ce2cd",
   "metadata": {},
   "outputs": [
    {
     "data": {
      "text/plain": [
       "50.0"
      ]
     },
     "execution_count": 6,
     "metadata": {},
     "output_type": "execute_result"
    }
   ],
   "source": [
    "def q2(a):\n",
    "    \"\"\"\n",
    "    Enter celsius to convert into Fahrenheit\n",
    "    \"\"\"\n",
    "    return (a * 9/5) + 32\n",
    "q2(10)"
   ]
  },
  {
   "cell_type": "markdown",
   "id": "916f68cd",
   "metadata": {},
   "source": [
    "=============================================================================================================="
   ]
  },
  {
   "cell_type": "markdown",
   "id": "495ab8c2",
   "metadata": {},
   "source": [
    "## 3. Write a Python program to display calendar?"
   ]
  },
  {
   "cell_type": "code",
   "execution_count": 8,
   "id": "cd0c88e7",
   "metadata": {},
   "outputs": [],
   "source": [
    "import calendar"
   ]
  },
  {
   "cell_type": "code",
   "execution_count": 10,
   "id": "e873e80e",
   "metadata": {},
   "outputs": [
    {
     "name": "stdout",
     "output_type": "stream",
     "text": [
      "Eenter year:- 2023\n",
      "Eenter Month:- 2\n",
      "   February 2023\n",
      "Mo Tu We Th Fr Sa Su\n",
      "       1  2  3  4  5\n",
      " 6  7  8  9 10 11 12\n",
      "13 14 15 16 17 18 19\n",
      "20 21 22 23 24 25 26\n",
      "27 28\n",
      "\n"
     ]
    }
   ],
   "source": [
    "def q3():\n",
    "    \"\"\"\n",
    "    Enter year and month to display the calendar\n",
    "    \"\"\"\n",
    "    year = int(input('Eenter year:- '))\n",
    "    month = int(input('Eenter Month:- '))\n",
    "    print(calendar.month(year,month))\n",
    "q3()"
   ]
  },
  {
   "cell_type": "markdown",
   "id": "8ba77e3a",
   "metadata": {},
   "source": [
    "=============================================================================================================="
   ]
  },
  {
   "cell_type": "markdown",
   "id": "085607cd",
   "metadata": {},
   "source": [
    "## 4. Write a Python program to solve quadratic equation?"
   ]
  },
  {
   "cell_type": "code",
   "execution_count": 19,
   "id": "aed8a15d",
   "metadata": {},
   "outputs": [
    {
     "data": {
      "text/plain": [
       "24"
      ]
     },
     "execution_count": 19,
     "metadata": {},
     "output_type": "execute_result"
    }
   ],
   "source": [
    "def q4(a,b,c,x):\n",
    "    \"\"\"\n",
    "    Enter a,b,c values for quadratic equation\n",
    "    \"\"\"\n",
    "    return (a*x**2 + b*x + c)\n",
    "q4(2,3,4,-4)"
   ]
  },
  {
   "cell_type": "code",
   "execution_count": 23,
   "id": "d6581efd",
   "metadata": {},
   "outputs": [
    {
     "data": {
      "text/plain": [
       "(3.0, 2.0)"
      ]
     },
     "execution_count": 23,
     "metadata": {},
     "output_type": "execute_result"
    }
   ],
   "source": [
    "import math\n",
    "\n",
    "def q4(a,b,c):\n",
    "    \"\"\"\n",
    "    Enter a,b,c values for quadratic equation\n",
    "    \"\"\"\n",
    "    s = math.sqrt(abs(b**2 - 4*a*c ) )\n",
    "    s1 = (-b + s) / (2*a)\n",
    "    s2 = (-b - s) / (2*a)\n",
    "    return s1, s2\n",
    "q4(1,-5,6)"
   ]
  },
  {
   "cell_type": "markdown",
   "id": "b8577c14",
   "metadata": {},
   "source": [
    "=============================================================================================================="
   ]
  },
  {
   "cell_type": "markdown",
   "id": "25489677",
   "metadata": {},
   "source": [
    "## 5. Write a Python program to swap two variables without temp variable?"
   ]
  },
  {
   "cell_type": "code",
   "execution_count": 24,
   "id": "476787c6",
   "metadata": {},
   "outputs": [
    {
     "data": {
      "text/plain": [
       "(7, 2)"
      ]
     },
     "execution_count": 24,
     "metadata": {},
     "output_type": "execute_result"
    }
   ],
   "source": [
    "def q5(a,b):\n",
    "    \"\"\"\n",
    "    Enter 2 numbers to swap\n",
    "    \"\"\"\n",
    "    a = a+b\n",
    "    b = a-b\n",
    "    a = a-b\n",
    "    return a,b\n",
    "q5(2,7)"
   ]
  },
  {
   "cell_type": "markdown",
   "id": "8f5c78be",
   "metadata": {},
   "source": [
    "=============================================================================================================="
   ]
  }
 ],
 "metadata": {
  "kernelspec": {
   "display_name": "Python 3",
   "language": "python",
   "name": "python3"
  },
  "language_info": {
   "codemirror_mode": {
    "name": "ipython",
    "version": 3
   },
   "file_extension": ".py",
   "mimetype": "text/x-python",
   "name": "python",
   "nbconvert_exporter": "python",
   "pygments_lexer": "ipython3",
   "version": "3.6.2"
  }
 },
 "nbformat": 4,
 "nbformat_minor": 5
}
