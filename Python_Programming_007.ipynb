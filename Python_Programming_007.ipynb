{
 "cells": [
  {
   "cell_type": "markdown",
   "id": "33f5bc24",
   "metadata": {},
   "source": [
    "# Python_Programming_Assignment_007"
   ]
  },
  {
   "cell_type": "markdown",
   "id": "3009e57e",
   "metadata": {},
   "source": [
    "**Concepts used:-**  \n",
    "Functions    \n",
    "loops    \n",
    "Lists    "
   ]
  },
  {
   "cell_type": "markdown",
   "id": "28b6c8fc",
   "metadata": {},
   "source": [
    "=============================================================================================================="
   ]
  },
  {
   "cell_type": "markdown",
   "id": "b1725970",
   "metadata": {},
   "source": [
    "## 1. Write a Python Program to find sum of array?"
   ]
  },
  {
   "cell_type": "code",
   "execution_count": 2,
   "id": "9d4c6694",
   "metadata": {},
   "outputs": [
    {
     "data": {
      "text/plain": [
       "15"
      ]
     },
     "execution_count": 2,
     "metadata": {},
     "output_type": "execute_result"
    }
   ],
   "source": [
    "# sum of array\n",
    "\n",
    "def q1(l):\n",
    "    try:\n",
    "        c = 0\n",
    "        for i in l:\n",
    "            c = c +i\n",
    "        return c\n",
    "    except Exception as e:\n",
    "        print('Error Occured:- ',e)\n",
    "\n",
    "l = [1,2,3,4,5]\n",
    "q1(l)"
   ]
  },
  {
   "cell_type": "markdown",
   "id": "780043b4",
   "metadata": {},
   "source": [
    "=============================================================================================================="
   ]
  },
  {
   "cell_type": "markdown",
   "id": "bfdc37b1",
   "metadata": {},
   "source": [
    "## 2. Write a Python Program to find largest element in an array?"
   ]
  },
  {
   "cell_type": "code",
   "execution_count": 98,
   "id": "3a9f65e6",
   "metadata": {},
   "outputs": [
    {
     "data": {
      "text/plain": [
       "77"
      ]
     },
     "execution_count": 98,
     "metadata": {},
     "output_type": "execute_result"
    }
   ],
   "source": [
    "# Sum of an array using built in function\n",
    "\n",
    "l = [5,2,3,4,77,42,53]\n",
    "max(l)"
   ]
  },
  {
   "cell_type": "code",
   "execution_count": 99,
   "id": "47022544",
   "metadata": {},
   "outputs": [
    {
     "data": {
      "text/plain": [
       "77"
      ]
     },
     "execution_count": 99,
     "metadata": {},
     "output_type": "execute_result"
    }
   ],
   "source": [
    "# Sum of an array\n",
    "\n",
    "def q2(l):\n",
    "    try:\n",
    "        n = l[0]\n",
    "        for i in l:\n",
    "            if i > n:\n",
    "                n = i\n",
    "        return n\n",
    "    except Exception as e:\n",
    "        print(e)\n",
    "\n",
    "l = [5,2,3,4,77,42,53]\n",
    "q2(l)"
   ]
  },
  {
   "cell_type": "markdown",
   "id": "58076830",
   "metadata": {},
   "source": [
    "=============================================================================================================="
   ]
  },
  {
   "cell_type": "markdown",
   "id": "6ce7eb20",
   "metadata": {},
   "source": [
    "## 3. Write a Python Program for array rotation?"
   ]
  },
  {
   "cell_type": "code",
   "execution_count": 9,
   "id": "a478cbcd",
   "metadata": {},
   "outputs": [
    {
     "name": "stdout",
     "output_type": "stream",
     "text": [
      "[53, 42, 77, 4, 3, 2, 5]\n"
     ]
    }
   ],
   "source": [
    "# Reversing an array. simple method.\n",
    "\n",
    "l = [5,2,3,4,77,42,53]\n",
    "print(l[::-1])"
   ]
  },
  {
   "cell_type": "code",
   "execution_count": 11,
   "id": "f5118285",
   "metadata": {},
   "outputs": [
    {
     "data": {
      "text/plain": [
       "[53, 42, 77, 4, 3, 2, 5]"
      ]
     },
     "execution_count": 11,
     "metadata": {},
     "output_type": "execute_result"
    }
   ],
   "source": [
    "# Reversing an array.\n",
    "\n",
    "def q3(l):\n",
    "    try:\n",
    "        l1=[]\n",
    "        n = len(l)\n",
    "        for i in range(n-1,0-1,-1):\n",
    "            l1.append(l[i])\n",
    "        return l1\n",
    "    except Exception as e:\n",
    "        print(e)\n",
    "        \n",
    "q3([5,2,3,4,77,42,53])"
   ]
  },
  {
   "cell_type": "markdown",
   "id": "ce4dddf8",
   "metadata": {},
   "source": [
    "=============================================================================================================="
   ]
  },
  {
   "cell_type": "markdown",
   "id": "d75de1d2",
   "metadata": {},
   "source": [
    "## 4. Write a Python Program to Split the array and add the first part to the end?"
   ]
  },
  {
   "cell_type": "code",
   "execution_count": 91,
   "id": "01cc7a5d",
   "metadata": {},
   "outputs": [
    {
     "data": {
      "text/plain": [
       "[4, 77, 42, 53, 5, 2, 1, 3]"
      ]
     },
     "execution_count": 91,
     "metadata": {},
     "output_type": "execute_result"
    }
   ],
   "source": [
    "# slicing\n",
    "\n",
    "def q4(l:list)->list:\n",
    "    try:\n",
    "        m = len(l)//2\n",
    "        s = l[:m]\n",
    "        e = l[m:]\n",
    "        return e+s\n",
    "    except Exception as e:\n",
    "        print(e)\n",
    "\n",
    "q4([5,2,1,3,4,77,42,53])"
   ]
  },
  {
   "cell_type": "markdown",
   "id": "6d1dbca1",
   "metadata": {},
   "source": [
    "=============================================================================================================="
   ]
  },
  {
   "cell_type": "markdown",
   "id": "7fda19e9",
   "metadata": {},
   "source": [
    "## 5. Write a Python Program to check if given array is Monotonic?"
   ]
  },
  {
   "cell_type": "code",
   "execution_count": 96,
   "id": "e4214ae9",
   "metadata": {},
   "outputs": [
    {
     "name": "stdout",
     "output_type": "stream",
     "text": [
      "Monotonic\n"
     ]
    }
   ],
   "source": [
    "# Moonotonic\n",
    "\n",
    "def q5(f):\n",
    "    try:\n",
    "        increasing = decreasing = True\n",
    "        for i in range(1,len(f)):\n",
    "            if f[i] > f[i-1]:\n",
    "                decreasing = False\n",
    "            if f[i] < f[i-1]:\n",
    "                increasing = False\n",
    "        if increasing or decreasing:\n",
    "            print('Monotonic')\n",
    "        else:\n",
    "            print('Not Monotonic')\n",
    "    except Exception as e:\n",
    "        print(e)\n",
    "        \n",
    "q5([1,2,3,4,5])"
   ]
  },
  {
   "cell_type": "markdown",
   "id": "d8c9966d",
   "metadata": {},
   "source": [
    "=============================================================================================================="
   ]
  }
 ],
 "metadata": {
  "kernelspec": {
   "display_name": "Python 3",
   "language": "python",
   "name": "python3"
  },
  "language_info": {
   "codemirror_mode": {
    "name": "ipython",
    "version": 3
   },
   "file_extension": ".py",
   "mimetype": "text/x-python",
   "name": "python",
   "nbconvert_exporter": "python",
   "pygments_lexer": "ipython3",
   "version": "3.6.2"
  }
 },
 "nbformat": 4,
 "nbformat_minor": 5
}
