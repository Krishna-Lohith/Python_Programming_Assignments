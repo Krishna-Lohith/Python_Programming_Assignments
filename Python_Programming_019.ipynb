{
 "cells": [
  {
   "cell_type": "markdown",
   "id": "74618d4e",
   "metadata": {},
   "source": [
    "# Python_Programming_Assignment_019"
   ]
  },
  {
   "cell_type": "markdown",
   "id": "f93cb4ac",
   "metadata": {},
   "source": [
    "**Concepts used:-**   \n",
    "strings  \n",
    "list comprahensions  \n",
    "lambda functions  "
   ]
  },
  {
   "cell_type": "markdown",
   "id": "bb990bb3",
   "metadata": {},
   "source": [
    "=============================================================================================================="
   ]
  },
  {
   "cell_type": "markdown",
   "id": "918e92d7",
   "metadata": {},
   "source": [
    "## Question1  \n",
    "Create a function that takes a string and returns a string in which each character is repeated once.  \n",
    "Examples  \n",
    "double_char(&quot;String&quot;) ➞ &quot;SSttrriinngg&quot;  \n",
    "double_char(&quot;Hello World!&quot;) ➞ &quot;HHeelllloo WWoorrlldd!!&quot;  \n",
    "double_char(&quot;1234!_ &quot;) ➞ &quot;11223344!!__ &quot;  "
   ]
  },
  {
   "cell_type": "code",
   "execution_count": 9,
   "id": "c25e41f8",
   "metadata": {},
   "outputs": [
    {
     "data": {
      "text/plain": [
       "'ssttrriinngg'"
      ]
     },
     "execution_count": 9,
     "metadata": {},
     "output_type": "execute_result"
    }
   ],
   "source": [
    "def double_char(s):\n",
    "    e = ''\n",
    "    for i in s:\n",
    "        e += i + i\n",
    "    return e\n",
    "double_char('string')"
   ]
  },
  {
   "cell_type": "markdown",
   "id": "ee1122b8",
   "metadata": {},
   "source": [
    "=============================================================================================================="
   ]
  },
  {
   "cell_type": "markdown",
   "id": "3e2453db",
   "metadata": {},
   "source": [
    "## Question2\n",
    "Create a function that reverses a boolean value and returns the string &quot;boolean expected&quot; if another variable type is given.  \n",
    "Examples  \n",
    "reverse(True) ➞ False  \n",
    "reverse(False) ➞ True  \n",
    "reverse(0) ➞ &quot;boolean expected&quot;  \n",
    "reverse(None) ➞ &quot;boolean expected&quot;  "
   ]
  },
  {
   "cell_type": "code",
   "execution_count": 29,
   "id": "ae80e23e",
   "metadata": {},
   "outputs": [
    {
     "data": {
      "text/plain": [
       "True"
      ]
     },
     "execution_count": 29,
     "metadata": {},
     "output_type": "execute_result"
    }
   ],
   "source": [
    "def reverse(n):\n",
    "    if type(n) is bool:\n",
    "        return not n\n",
    "    else:\n",
    "        return 'boolean expected'\n",
    "\n",
    "reverse(False)"
   ]
  },
  {
   "cell_type": "markdown",
   "id": "b96d55c3",
   "metadata": {},
   "source": [
    "=============================================================================================================="
   ]
  },
  {
   "cell_type": "markdown",
   "id": "25e6e113",
   "metadata": {},
   "source": [
    "## Question3\n",
    "Create a function that returns the thickness (in meters) of a piece of paper after folding it n number of times. The paper starts off with a thickness of 0.5mm.  \n",
    "Examples  \n",
    "num_layers(1) ➞ &quot;0.001m&quot;  \n",
    "Paper folded once is 1mm (equal to 0.001m)  \n",
    "num_layers(4) ➞ &quot;0.008m&quot;  \n",
    "Paper folded 4 times is 8mm (equal to 0.008m)  \n",
    "num_layers(21) ➞ &quot;1048.576m&quot;  \n",
    "Paper folded 21 times is 1048576mm (equal to 1048.576m)  "
   ]
  },
  {
   "cell_type": "code",
   "execution_count": 30,
   "id": "238fefa5",
   "metadata": {},
   "outputs": [
    {
     "data": {
      "text/plain": [
       "10.5"
      ]
     },
     "execution_count": 30,
     "metadata": {},
     "output_type": "execute_result"
    }
   ],
   "source": [
    "0.5*21"
   ]
  },
  {
   "cell_type": "code",
   "execution_count": 45,
   "id": "3e42ca8b",
   "metadata": {},
   "outputs": [
    {
     "data": {
      "text/plain": [
       "'paper folded 4 times is 8mm (equals to 0.008m)'"
      ]
     },
     "execution_count": 45,
     "metadata": {},
     "output_type": "execute_result"
    }
   ],
   "source": [
    "def num_layers(n):\n",
    "    x  = (2 ** n)  * 0.5\n",
    "    return (f'paper folded {n} times is {int(x)}mm (equals to {x/1000}m)')\n",
    "\n",
    "num_layers(4)"
   ]
  },
  {
   "cell_type": "markdown",
   "id": "3f1e014a",
   "metadata": {},
   "source": [
    "=============================================================================================================="
   ]
  },
  {
   "cell_type": "markdown",
   "id": "1f28f3d3",
   "metadata": {},
   "source": [
    "## Question4  \n",
    "\n",
    "Create a function that takes a single string as argument and returns an ordered list containing the indices of all capital letters in the string.  \n",
    "Examples  \n",
    "index_of_caps(&quot;eDaBiT&quot;) ➞ [1, 3, 5]  \n",
    "index_of_caps(&quot;eQuINoX&quot;) ➞ [1, 3, 4, 6]  \n",
    "index_of_caps(&quot;determine&quot;) ➞ []  \n",
    "index_of_caps(&quot;STRIKE&quot;) ➞ [0, 1, 2, 3, 4, 5]   \n",
    "index_of_caps(&quot;sUn&quot;) ➞ [1]  "
   ]
  },
  {
   "cell_type": "code",
   "execution_count": 51,
   "id": "cc162a18",
   "metadata": {},
   "outputs": [
    {
     "data": {
      "text/plain": [
       "[1, 3, 5]"
      ]
     },
     "execution_count": 51,
     "metadata": {},
     "output_type": "execute_result"
    }
   ],
   "source": [
    "def index_of_caps(s):\n",
    "    return [s.index(i) for i in s if i.isupper()]\n",
    "\n",
    "index_of_caps('eDaBiT')"
   ]
  },
  {
   "cell_type": "code",
   "execution_count": 56,
   "id": "8dd05ada",
   "metadata": {},
   "outputs": [
    {
     "data": {
      "text/plain": [
       "[1, 3, 5]"
      ]
     },
     "execution_count": 56,
     "metadata": {},
     "output_type": "execute_result"
    }
   ],
   "source": [
    "# using lambda\n",
    "index_of_caps  = lambda s: [s.index(i) for i in s if i.isupper()]\n",
    "index_of_caps('eDaBiT')"
   ]
  },
  {
   "cell_type": "markdown",
   "id": "7e8de97a",
   "metadata": {},
   "source": [
    "=============================================================================================================="
   ]
  },
  {
   "cell_type": "markdown",
   "id": "235d11a2",
   "metadata": {},
   "source": [
    "## Question5\n",
    "Using list comprehensions, create a function that finds all even numbers from 1 to the given number.  \n",
    "Examples  \n",
    "find_even_nums(8) ➞ [2, 4, 6, 8]  \n",
    "find_even_nums(4) ➞ [2, 4]  \n",
    "find_even_nums(2) ➞ [2]"
   ]
  },
  {
   "cell_type": "code",
   "execution_count": 61,
   "id": "dab111f2",
   "metadata": {},
   "outputs": [
    {
     "data": {
      "text/plain": [
       "[2, 4, 6]"
      ]
     },
     "execution_count": 61,
     "metadata": {},
     "output_type": "execute_result"
    }
   ],
   "source": [
    "def find_even_numbers(n):\n",
    "    return [i for i in range(1,n) if i%2==0]\n",
    "\n",
    "find_even_numbers(8)"
   ]
  },
  {
   "cell_type": "code",
   "execution_count": 63,
   "id": "34022128",
   "metadata": {},
   "outputs": [
    {
     "data": {
      "text/plain": [
       "[2, 4, 6, 8]"
      ]
     },
     "execution_count": 63,
     "metadata": {},
     "output_type": "execute_result"
    }
   ],
   "source": [
    "# using lambda\n",
    "find_even_numbers = lambda n: [i for i in range(1,n) if i%2==0]\n",
    "find_even_numbers(10)"
   ]
  },
  {
   "cell_type": "markdown",
   "id": "4a0e290e",
   "metadata": {},
   "source": [
    "=============================================================================================================="
   ]
  }
 ],
 "metadata": {
  "kernelspec": {
   "display_name": "Python 3",
   "language": "python",
   "name": "python3"
  },
  "language_info": {
   "codemirror_mode": {
    "name": "ipython",
    "version": 3
   },
   "file_extension": ".py",
   "mimetype": "text/x-python",
   "name": "python",
   "nbconvert_exporter": "python",
   "pygments_lexer": "ipython3",
   "version": "3.6.2"
  }
 },
 "nbformat": 4,
 "nbformat_minor": 5
}
