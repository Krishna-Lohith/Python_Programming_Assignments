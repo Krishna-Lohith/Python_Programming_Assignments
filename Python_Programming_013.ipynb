{
 "cells": [
  {
   "cell_type": "markdown",
   "id": "974f0376",
   "metadata": {},
   "source": [
    "# Python_Programming_Assignment_013"
   ]
  },
  {
   "cell_type": "markdown",
   "id": "ac2c1332",
   "metadata": {},
   "source": [
    "**Topics Covered:-**  \n",
    "File handling  \n",
    "CSV  \n",
    "Numpy  \n",
    "Strings  "
   ]
  },
  {
   "cell_type": "markdown",
   "id": "98e739a8",
   "metadata": {},
   "source": [
    "=============================================================================================================="
   ]
  },
  {
   "cell_type": "markdown",
   "id": "86923a84",
   "metadata": {},
   "source": [
    "## Question 1:\n",
    "###  Write a program that calculates and prints the value according to the given formula: \n",
    "#### Q = Square root of [(2 * C * D)/H]\n",
    "### Following are the fixed values of C and H: C is 50. H is 30.\n",
    "### D is the variable whose values should be input to your program in a comma-separated sequence.\n",
    "### Example:- Let us assume the following comma separated input sequence is given to the program: 100,150,180\n",
    "### The output of the program should be:- 18,22,24"
   ]
  },
  {
   "cell_type": "code",
   "execution_count": 65,
   "id": "4cca6abd",
   "metadata": {},
   "outputs": [
    {
     "name": "stdout",
     "output_type": "stream",
     "text": [
      "Enter values:- 100,150,180\n",
      "18\n",
      "22\n",
      "24\n"
     ]
    }
   ],
   "source": [
    "import math\n",
    "C=50\n",
    "H=30\n",
    "put = input('Enter values:- ').split(',')\n",
    "for i in put:\n",
    "    D = int(i)\n",
    "    m = math.sqrt( (2* C * D )//H )\n",
    "    print(round(m))"
   ]
  },
  {
   "cell_type": "code",
   "execution_count": 67,
   "id": "2245252f",
   "metadata": {},
   "outputs": [
    {
     "name": "stdout",
     "output_type": "stream",
     "text": [
      "18\n",
      "22\n",
      "24\n"
     ]
    }
   ],
   "source": [
    "import csv\n",
    "import math\n",
    "\n",
    "with open('Formula.csv','w') as file:\n",
    "    writer = csv.writer(file)\n",
    "    \n",
    "    writer.writerow([100,150,180])\n",
    "    \n",
    "with open('Formula.csv','r') as file:\n",
    "    reader = csv.reader(file)\n",
    "    \n",
    "    for i in reader:\n",
    "        for j in i:\n",
    "            D = int(j)\n",
    "            m = math.sqrt( (2* C * D )//H )\n",
    "            print(round(m))"
   ]
  },
  {
   "cell_type": "markdown",
   "id": "c35c2539",
   "metadata": {},
   "source": [
    "=============================================================================================================="
   ]
  },
  {
   "cell_type": "markdown",
   "id": "659b0f49",
   "metadata": {},
   "source": [
    "## Question 2:\n",
    "###  Write a program which takes 2 digits, X,Y as input and generates a 2-dimensional array. The element value in the i-th row and j-th column of the array should be i*j.\n",
    "### Note: i=0,1.., X-1; j=0,1,¡Y-1.\n",
    "###  Example Suppose the following inputs are given to the program: 3,5\n",
    "### Then, the output of the program should be: [[0, 0, 0, 0, 0], [0, 1, 2, 3, 4], [0, 2, 4, 6, 8]]"
   ]
  },
  {
   "cell_type": "code",
   "execution_count": 95,
   "id": "a2201fb2",
   "metadata": {},
   "outputs": [
    {
     "name": "stdout",
     "output_type": "stream",
     "text": [
      "Enter x, y:- 3,5\n",
      "[[0, 0, 0, 0, 0], [0, 1, 2, 3, 4], [0, 2, 4, 6, 8]]\n"
     ]
    }
   ],
   "source": [
    "x,y =  map(int, input('Enter x, y:- ').split(','))\n",
    "\n",
    "result = []\n",
    "\n",
    "for i in range(x):\n",
    "    row=[]\n",
    "    for j in range(y):\n",
    "        row.append(i*j)\n",
    "    result.append(row)\n",
    "print(result)"
   ]
  },
  {
   "cell_type": "code",
   "execution_count": 98,
   "id": "67c17e02",
   "metadata": {},
   "outputs": [
    {
     "name": "stdout",
     "output_type": "stream",
     "text": [
      "3,5\n",
      "[[0 0 0 0 0]\n",
      " [0 1 2 3 4]\n",
      " [0 2 4 6 8]]\n"
     ]
    }
   ],
   "source": [
    "# using numpy\n",
    "import numpy as np\n",
    "\n",
    "X, Y = map(int, input().split(','))\n",
    "\n",
    "result = np.zeros((X, Y), dtype=int)\n",
    "for i in range(X):\n",
    "    for j in range(Y):\n",
    "        result[i][j] = i*j\n",
    "\n",
    "print(result)"
   ]
  },
  {
   "cell_type": "markdown",
   "id": "0be17860",
   "metadata": {},
   "source": [
    "=============================================================================================================="
   ]
  },
  {
   "cell_type": "markdown",
   "id": "95377b55",
   "metadata": {},
   "source": [
    "## Question 3:\n",
    "### Write a program that accepts a comma separated sequence of words as input and prints the words in a comma-separated sequence after sorting them alphabetically.\n",
    "### Suppose the following input is supplied to the program: without,hello,bag,world \n",
    "### Then, the output should be: bag,hello,without,world"
   ]
  },
  {
   "cell_type": "code",
   "execution_count": 133,
   "id": "1a946059",
   "metadata": {},
   "outputs": [],
   "source": [
    "s = \"without,hello,bag,world\""
   ]
  },
  {
   "cell_type": "code",
   "execution_count": 134,
   "id": "64bc8e71",
   "metadata": {},
   "outputs": [],
   "source": [
    "s = sorted(s.split(','))"
   ]
  },
  {
   "cell_type": "code",
   "execution_count": 135,
   "id": "758a293e",
   "metadata": {},
   "outputs": [
    {
     "data": {
      "text/plain": [
       "'bag,hello,without,world'"
      ]
     },
     "execution_count": 135,
     "metadata": {},
     "output_type": "execute_result"
    }
   ],
   "source": [
    "','.join(s)"
   ]
  },
  {
   "cell_type": "markdown",
   "id": "5b5a850c",
   "metadata": {},
   "source": [
    "=============================================================================================================="
   ]
  },
  {
   "cell_type": "markdown",
   "id": "9375bc8e",
   "metadata": {},
   "source": [
    "## Question 4:\n",
    "### Write a program that accepts a sequence of whitespace separated words as input and prints the words after removing all duplicate words and sorting them alphanumerically.\n",
    "### Suppose the following input is supplied to the program: hello world and practice makes perfect and hello world again\n",
    "### Then, the output should be: again and hello makes perfect practice world"
   ]
  },
  {
   "cell_type": "code",
   "execution_count": 146,
   "id": "2e31ccf1",
   "metadata": {},
   "outputs": [
    {
     "data": {
      "text/plain": [
       "{'again', 'and', 'hello', 'makes', 'perfect', 'practice', 'world'}"
      ]
     },
     "execution_count": 146,
     "metadata": {},
     "output_type": "execute_result"
    }
   ],
   "source": [
    "s = \"hello world and practice makes perfect and hello world again\"\n",
    "t = set(s.split(' '))\n",
    "t"
   ]
  },
  {
   "cell_type": "markdown",
   "id": "a5ff93c4",
   "metadata": {},
   "source": [
    "=============================================================================================================="
   ]
  },
  {
   "cell_type": "markdown",
   "id": "347e3f5e",
   "metadata": {},
   "source": [
    "## Question 5:\n",
    "### Write a program that accepts a sentence and calculate the number of letters and digits. Suppose the following input is supplied to the program:\n",
    "### hello world! 123\n",
    "### Then, the output should be: LETTERS 10 DIGITS 3"
   ]
  },
  {
   "cell_type": "code",
   "execution_count": 180,
   "id": "fd62067c",
   "metadata": {},
   "outputs": [
    {
     "name": "stdout",
     "output_type": "stream",
     "text": [
      "LETTERS :-  10\n",
      "DIGITS :-  3\n"
     ]
    }
   ],
   "source": [
    "s = \"hello world! 123\"\n",
    "ap = []\n",
    "digi = []\n",
    "for i in s:\n",
    "    if i.isalpha():\n",
    "        ap.append(i)\n",
    "    elif i.isdigit():\n",
    "        digi.append(i)\n",
    "print('LETTERS :- ', len(ap))\n",
    "print('DIGITS :- ',len(digi))"
   ]
  },
  {
   "cell_type": "markdown",
   "id": "f196db33",
   "metadata": {},
   "source": [
    "=============================================================================================================="
   ]
  },
  {
   "cell_type": "markdown",
   "id": "32b59a69",
   "metadata": {},
   "source": [
    "## Question 6:\n",
    "A website requires the users to input username and password to register. Write a program to\n",
    "check the validity of password input by users.\n",
    "Following are the criteria for checking the password:\n",
    "1. At least 1 letter between [a-z]\n",
    "2. At least 1 number between [0-9]\n",
    "1. At least 1 letter between [A-Z]\n",
    "3. At least 1 character from [$#@]\n",
    "4. Minimum length of transaction password: 6\n",
    "5. Maximum length of transaction password: 12  \n",
    "Your program should accept a sequence of comma separated passwords and will check them\n",
    "according to the above criteria. Passwords that match the criteria are to be printed, each\n",
    "separated by a comma.  \n",
    "Example  \n",
    "If the following passwords are given as input to the program:  ABd1234@1,a F1#,2w3E*,2We3345    \n",
    "Then, the output of the program should be:  ABd1234@1"
   ]
  },
  {
   "cell_type": "code",
   "execution_count": 270,
   "id": "fb2948bf",
   "metadata": {},
   "outputs": [
    {
     "name": "stdout",
     "output_type": "stream",
     "text": [
      "ABd1234@1\n"
     ]
    }
   ],
   "source": [
    "import re\n",
    "\n",
    "def q6(s):\n",
    "    s = s.split(',')\n",
    "    for i in s :\n",
    "        if len(i) >=6 and len(i) <12:\n",
    "            if re.search(\"[a-z]\",i) and re.search('[A-Z]',i) and re.search('[0-9]',i) and re.search('[@#$]',i):\n",
    "                    print(i)\n",
    "                    \n",
    "s = \"ABd1234@1,a F1#,2w3E*,2We3345\"\n",
    "q6(s)"
   ]
  },
  {
   "cell_type": "markdown",
   "id": "e8c2952c",
   "metadata": {},
   "source": [
    "=============================================================================================================="
   ]
  }
 ],
 "metadata": {
  "kernelspec": {
   "display_name": "Python 3",
   "language": "python",
   "name": "python3"
  },
  "language_info": {
   "codemirror_mode": {
    "name": "ipython",
    "version": 3
   },
   "file_extension": ".py",
   "mimetype": "text/x-python",
   "name": "python",
   "nbconvert_exporter": "python",
   "pygments_lexer": "ipython3",
   "version": "3.6.2"
  }
 },
 "nbformat": 4,
 "nbformat_minor": 5
}
