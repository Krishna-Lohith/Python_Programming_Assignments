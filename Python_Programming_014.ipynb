{
 "cells": [
  {
   "cell_type": "markdown",
   "id": "eb5bb331",
   "metadata": {},
   "source": [
    "# Python_Programming_Assignment_014"
   ]
  },
  {
   "cell_type": "markdown",
   "id": "b1346435",
   "metadata": {},
   "source": [
    "**Concepts used:-**  \n",
    "Class and objects  \n",
    "\n",
    "**Concepts used:-**  \n",
    "Frequency of words    \n"
   ]
  },
  {
   "cell_type": "markdown",
   "id": "75a941e5",
   "metadata": {},
   "source": [
    "=============================================================================================================="
   ]
  },
  {
   "cell_type": "markdown",
   "id": "bb9718af",
   "metadata": {},
   "source": [
    "## 1. Define a class with a generator which can iterate the numbers, which are divisible by 7, between a given range 0 and n."
   ]
  },
  {
   "cell_type": "code",
   "execution_count": 25,
   "id": "db43b163",
   "metadata": {},
   "outputs": [],
   "source": [
    "class qstn1:\n",
    "    def __init__(self,n):\n",
    "        self.n = n\n",
    "    \n",
    "    def generator(n):\n",
    "        for i in range(n):\n",
    "            if i%7 == 0:\n",
    "                print(i)\n",
    "            "
   ]
  },
  {
   "cell_type": "code",
   "execution_count": 26,
   "id": "c1be832c",
   "metadata": {},
   "outputs": [
    {
     "name": "stdout",
     "output_type": "stream",
     "text": [
      "0\n",
      "7\n",
      "14\n",
      "21\n",
      "28\n",
      "35\n",
      "42\n",
      "49\n"
     ]
    }
   ],
   "source": [
    "qstn1.generator(50)"
   ]
  },
  {
   "cell_type": "markdown",
   "id": "05052f43",
   "metadata": {},
   "source": [
    "=============================================================================================================="
   ]
  },
  {
   "cell_type": "markdown",
   "id": "af84dc05",
   "metadata": {},
   "source": [
    "## Question 2:\n",
    "Write a program to compute the frequency of the words from the input. The output should output after sorting the key alphanumerically.  \n",
    "Suppose the following input is supplied to the program:  \n",
    "New to Python or choosing between Python 2 and Python 3? Read Python 2 or Python 3.  \n",
    "Then, the output should be:  \n",
    "2:2  \n",
    "3.:1  \n",
    "3?:1  \n",
    "New:1  \n",
    "Python:5  \n",
    "Read:1  \n",
    "and:1  \n",
    "between:1  \n",
    "choosing:1  \n",
    "or:2  \n",
    "to:1  "
   ]
  },
  {
   "cell_type": "code",
   "execution_count": 75,
   "id": "36644cca",
   "metadata": {},
   "outputs": [
    {
     "data": {
      "text/plain": [
       "{'': 2,\n",
       " '2': 2,\n",
       " '3.': 1,\n",
       " '3?': 1,\n",
       " 'New': 1,\n",
       " 'Python': 5,\n",
       " 'Read': 1,\n",
       " 'and': 1,\n",
       " 'between': 1,\n",
       " 'choosing': 1,\n",
       " 'or': 2,\n",
       " 'to': 1}"
      ]
     },
     "execution_count": 75,
     "metadata": {},
     "output_type": "execute_result"
    }
   ],
   "source": [
    "def q2(s):\n",
    "    count = {}\n",
    "    s = sorted(s.split(' '))\n",
    "    for i in s:\n",
    "        if i in count:\n",
    "            count[i] += 1\n",
    "        else:\n",
    "            count[i] = 1\n",
    "    return count\n",
    "\n",
    "s = \"New to Python or choosing between Python 2 and Python 3? Read Python 2 or Python 3.  \"\n",
    "q2(s)"
   ]
  },
  {
   "cell_type": "markdown",
   "id": "4947a58b",
   "metadata": {},
   "source": [
    "=============================================================================================================="
   ]
  },
  {
   "cell_type": "markdown",
   "id": "8e056a8b",
   "metadata": {},
   "source": [
    "##  3. Define a class Person and its two child classes: Male and Female. All classes have a method &quot;getGender&quot; which can print &quot;Male&quot; for Male class and &quot;Female&quot; for Female class."
   ]
  },
  {
   "cell_type": "code",
   "execution_count": 51,
   "id": "3ec3c123",
   "metadata": {},
   "outputs": [],
   "source": [
    "class person:\n",
    "    def getGender():\n",
    "        pass\n",
    "    \n",
    "class Male(person):\n",
    "    def getGender():\n",
    "        print('Male')\n",
    "    \n",
    "class Female(person):    \n",
    "    def getGender():\n",
    "        print('FeMale')"
   ]
  },
  {
   "cell_type": "code",
   "execution_count": 54,
   "id": "562788af",
   "metadata": {},
   "outputs": [
    {
     "name": "stdout",
     "output_type": "stream",
     "text": [
      "FeMale\n"
     ]
    }
   ],
   "source": [
    "Female.getGender()"
   ]
  },
  {
   "cell_type": "code",
   "execution_count": 55,
   "id": "11a9b934",
   "metadata": {},
   "outputs": [
    {
     "name": "stdout",
     "output_type": "stream",
     "text": [
      "Male\n"
     ]
    }
   ],
   "source": [
    "Male.getGender()"
   ]
  },
  {
   "cell_type": "markdown",
   "id": "ae9fd08c",
   "metadata": {},
   "source": [
    "=============================================================================================================="
   ]
  },
  {
   "cell_type": "markdown",
   "id": "5f169ad3",
   "metadata": {},
   "source": [
    "## 4. Please write a program to generate all sentences where subject is in [&quot;I&quot;, &quot;You&quot;] and verb is in [&quot;Play&quot;, &quot;Love&quot;] and the object is in [&quot;Hockey&quot;,&quot;Football&quot;]."
   ]
  },
  {
   "cell_type": "code",
   "execution_count": 57,
   "id": "d9981f6a",
   "metadata": {},
   "outputs": [
    {
     "name": "stdout",
     "output_type": "stream",
     "text": [
      "I Play Hockey.\n",
      "I Play Football.\n",
      "I Love Hockey.\n",
      "I Love Football.\n",
      "You Play Hockey.\n",
      "You Play Football.\n",
      "You Love Hockey.\n",
      "You Love Football.\n"
     ]
    }
   ],
   "source": [
    "subjects = [\"I\", \"You\"]\n",
    "verbs = [\"Play\", \"Love\"]\n",
    "objects = [\"Hockey\", \"Football\"]\n",
    "\n",
    "for subject in subjects:\n",
    "    for verb in verbs:\n",
    "        for obj in objects:\n",
    "            sentence = f\"{subject} {verb} {obj}.\"\n",
    "            print(sentence)"
   ]
  },
  {
   "cell_type": "markdown",
   "id": "5d74a51a",
   "metadata": {},
   "source": [
    "=============================================================================================================="
   ]
  },
  {
   "cell_type": "markdown",
   "id": "6963b347",
   "metadata": {},
   "source": [
    "## 5. Please write a program to compress and decompress the string &quot;hello world!hello world!hello world!hello world!&quot;."
   ]
  },
  {
   "cell_type": "code",
   "execution_count": 61,
   "id": "703a143e",
   "metadata": {},
   "outputs": [],
   "source": [
    "# compresses the data in a compressed file.\n",
    "\n",
    "import gzip\n",
    "\n",
    "data = b\"hello world!hello world!hello world!hello world!\"\n",
    "\n",
    "with gzip.open(\"compressed.gz\", \"wb\") as f:\n",
    "    f.write(data)"
   ]
  },
  {
   "cell_type": "code",
   "execution_count": 63,
   "id": "91705249",
   "metadata": {},
   "outputs": [
    {
     "name": "stdout",
     "output_type": "stream",
     "text": [
      "hello world!hello world!hello world!hello world!\n"
     ]
    }
   ],
   "source": [
    "# decompresses the data in a compressed file.\n",
    "\n",
    "import gzip\n",
    "\n",
    "with gzip.open(\"compressed.gz\", \"rb\") as f:\n",
    "    decompressed_data = f.read()\n",
    "\n",
    "print(decompressed_data.decode())\n"
   ]
  },
  {
   "cell_type": "markdown",
   "id": "5044efae",
   "metadata": {},
   "source": [
    "=============================================================================================================="
   ]
  },
  {
   "cell_type": "markdown",
   "id": "71c43713",
   "metadata": {},
   "source": [
    "## 6. Please write a binary search function which searches an item in a sorted list. The function should return the index of element to be searched in the list."
   ]
  },
  {
   "cell_type": "code",
   "execution_count": 67,
   "id": "19519d29",
   "metadata": {},
   "outputs": [
    {
     "data": {
      "text/plain": [
       "2"
      ]
     },
     "execution_count": 67,
     "metadata": {},
     "output_type": "execute_result"
    }
   ],
   "source": [
    "def binary_search(lst, n):\n",
    "    return lst.index(n)\n",
    "\n",
    "lst = [1, 3, 5, 7, 9]\n",
    "n = 5\n",
    "binary_search(lst,n)"
   ]
  },
  {
   "cell_type": "markdown",
   "id": "1cb28646",
   "metadata": {},
   "source": [
    "=============================================================================================================="
   ]
  }
 ],
 "metadata": {
  "kernelspec": {
   "display_name": "Python 3",
   "language": "python",
   "name": "python3"
  },
  "language_info": {
   "codemirror_mode": {
    "name": "ipython",
    "version": 3
   },
   "file_extension": ".py",
   "mimetype": "text/x-python",
   "name": "python",
   "nbconvert_exporter": "python",
   "pygments_lexer": "ipython3",
   "version": "3.6.2"
  }
 },
 "nbformat": 4,
 "nbformat_minor": 5
}
