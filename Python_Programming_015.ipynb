{
 "cells": [
  {
   "cell_type": "markdown",
   "id": "989f2cba",
   "metadata": {},
   "source": [
    "# Python_Programming_Assignment_015"
   ]
  },
  {
   "cell_type": "markdown",
   "id": "fa98ea56",
   "metadata": {},
   "source": [
    "**Topics covered:-**   \n",
    "string    \n",
    "join  "
   ]
  },
  {
   "cell_type": "markdown",
   "id": "b8dc5bcb",
   "metadata": {},
   "source": [
    "=============================================================================================================="
   ]
  },
  {
   "cell_type": "markdown",
   "id": "374eda80",
   "metadata": {},
   "source": [
    "## Question 1:\n",
    "Please write a program using generator to print the numbers which can be divisible by 5 and 7 between 0 and n in comma separated form while n is input by console.  \n",
    "Example:  \n",
    "If the following n is given as input to the program: 100  \n",
    "Then, the output of the program should be: 0,35,70 "
   ]
  },
  {
   "cell_type": "code",
   "execution_count": 29,
   "id": "73d8d081",
   "metadata": {},
   "outputs": [
    {
     "name": "stdout",
     "output_type": "stream",
     "text": [
      "Enter the value of n: 100\n",
      "0,35,70\n"
     ]
    }
   ],
   "source": [
    "def div_5_7(n):\n",
    "    for i in range(n+1):\n",
    "        if i%5==0 and i%7==0:\n",
    "            yield i\n",
    "            \n",
    "n = int(input(\"Enter the value of n: \"))\n",
    "result = ','.join(str(i) for i in div_5_7(n))\n",
    "print(result)"
   ]
  },
  {
   "cell_type": "markdown",
   "id": "fab4aa52",
   "metadata": {},
   "source": [
    "=============================================================================================================="
   ]
  },
  {
   "cell_type": "markdown",
   "id": "74139ccc",
   "metadata": {},
   "source": [
    "## Question 2:\n",
    "Please write a program using generator to print the even numbers between 0 and n in comma separated form while n is input by console.  \n",
    "Example:  \n",
    "If the following n is given as input to the program: 10  \n",
    "Then, the output of the program should be:  0,2,4,6,8,10  "
   ]
  },
  {
   "cell_type": "code",
   "execution_count": 33,
   "id": "8fecf62e",
   "metadata": {},
   "outputs": [
    {
     "name": "stdout",
     "output_type": "stream",
     "text": [
      "Enter a maximum number to check even numbers:- 10\n",
      "0,2,4,6,8,10\n"
     ]
    }
   ],
   "source": [
    "def even(n):\n",
    "    for i in range(n+1):\n",
    "        if i%2==0:\n",
    "            yield i\n",
    "            \n",
    "n = int(input('Enter a maximum number to check even numbers:- '))\n",
    "l = []\n",
    "for i in even(n):\n",
    "    c = str(i)\n",
    "    l.append(c)\n",
    "    result = ','.join(l)\n",
    "print(result)"
   ]
  },
  {
   "cell_type": "markdown",
   "id": "7147fe02",
   "metadata": {},
   "source": [
    "=============================================================================================================="
   ]
  },
  {
   "cell_type": "markdown",
   "id": "d091010e",
   "metadata": {},
   "source": [
    "## Question 3:\n",
    "The Fibonacci Sequence is computed based on the following formula:  \n",
    "f(n)=0 if n=0  \n",
    "f(n)=1 if n=1  \n",
    "f(n)=f(n-1)+f(n-2) if n&gt;1  \n",
    "Please write a program using list comprehension to print the Fibonacci Sequence in comma  separated form with a given n input by console.  \n",
    "Example:    \n",
    "If the following n is given as input to the program: 7  \n",
    "Then, the output of the program should be: 0,1,1,2,3,5,8,13 "
   ]
  },
  {
   "cell_type": "code",
   "execution_count": 43,
   "id": "c8cf7457",
   "metadata": {},
   "outputs": [
    {
     "name": "stdout",
     "output_type": "stream",
     "text": [
      "0,1,1,2,3,5,8,13\n"
     ]
    }
   ],
   "source": [
    "fib = [0,1]\n",
    "\n",
    "[(fib.append(fib[-1]+fib[-2])) for i in range(7-1)]\n",
    "f = ','.join(str(i) for i in fib)\n",
    "print(f)"
   ]
  },
  {
   "cell_type": "markdown",
   "id": "33dd2f62",
   "metadata": {},
   "source": [
    "=============================================================================================================="
   ]
  },
  {
   "cell_type": "markdown",
   "id": "01df8aa7",
   "metadata": {},
   "source": [
    "## Question 4:\n",
    "Assuming that we have some email addresses in the &quot;username@companyname.com&quot; format, please write program to print the user name of a given email address. Both user names and company names are composed of letters only.    \n",
    "Example:  \n",
    "If the following email address is given as input to the program: john@google.com    \n",
    "Then, the output of the program should be: john  "
   ]
  },
  {
   "cell_type": "code",
   "execution_count": 48,
   "id": "9876646d",
   "metadata": {},
   "outputs": [
    {
     "data": {
      "text/plain": [
       "'john'"
      ]
     },
     "execution_count": 48,
     "metadata": {},
     "output_type": "execute_result"
    }
   ],
   "source": [
    "s =\"john@google.com\"\n",
    "symbol = s.find('@')\n",
    "s[:symbol]"
   ]
  },
  {
   "cell_type": "markdown",
   "id": "cbb0b5f7",
   "metadata": {},
   "source": [
    "=============================================================================================================="
   ]
  },
  {
   "cell_type": "markdown",
   "id": "69d043ed",
   "metadata": {},
   "source": [
    "## Question 5:\n",
    "Define a class named Shape and its subclass Square. The Square class has an init function which takes a length as argument. Both classes have a area function which can print the area of the shape where Shape&#39;s area is 0 by default."
   ]
  },
  {
   "cell_type": "code",
   "execution_count": 51,
   "id": "2c6b2783",
   "metadata": {},
   "outputs": [],
   "source": [
    "class shape:\n",
    "    def area():\n",
    "        return 0\n",
    "    \n",
    "class square(shape):\n",
    "    def __init__(self, length):\n",
    "        self.length = length\n",
    "        \n",
    "    def area():\n",
    "        return 0"
   ]
  },
  {
   "cell_type": "code",
   "execution_count": 52,
   "id": "7899c6fa",
   "metadata": {},
   "outputs": [
    {
     "data": {
      "text/plain": [
       "0"
      ]
     },
     "execution_count": 52,
     "metadata": {},
     "output_type": "execute_result"
    }
   ],
   "source": [
    "square.area()"
   ]
  },
  {
   "cell_type": "code",
   "execution_count": 53,
   "id": "0cfa200e",
   "metadata": {},
   "outputs": [
    {
     "data": {
      "text/plain": [
       "0"
      ]
     },
     "execution_count": 53,
     "metadata": {},
     "output_type": "execute_result"
    }
   ],
   "source": [
    "shape.area()"
   ]
  },
  {
   "cell_type": "markdown",
   "id": "fd8a88af",
   "metadata": {},
   "source": [
    "=============================================================================================================="
   ]
  }
 ],
 "metadata": {
  "kernelspec": {
   "display_name": "Python 3",
   "language": "python",
   "name": "python3"
  },
  "language_info": {
   "codemirror_mode": {
    "name": "ipython",
    "version": 3
   },
   "file_extension": ".py",
   "mimetype": "text/x-python",
   "name": "python",
   "nbconvert_exporter": "python",
   "pygments_lexer": "ipython3",
   "version": "3.6.2"
  }
 },
 "nbformat": 4,
 "nbformat_minor": 5
}
