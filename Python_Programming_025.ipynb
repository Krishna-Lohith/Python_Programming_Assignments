{
 "cells": [
  {
   "cell_type": "markdown",
   "id": "ed2c9a91",
   "metadata": {},
   "source": [
    "# Python_Programming_Assignment_025"
   ]
  },
  {
   "cell_type": "markdown",
   "id": "4225c8de",
   "metadata": {},
   "source": [
    "**Topics covered:-**  \n",
    "String functions  "
   ]
  },
  {
   "cell_type": "markdown",
   "id": "3f5ff0e6",
   "metadata": {},
   "source": [
    "=============================================================================================================="
   ]
  },
  {
   "cell_type": "markdown",
   "id": "d887af13",
   "metadata": {},
   "source": [
    "## Question1  \n",
    "Create a function that takes three integer arguments (a, b, c) and returns the amount of integers which are of equal value.  \n",
    "Examples  \n",
    "equal(3, 4, 3) ➞ 2  \n",
    "equal(1, 1, 1) ➞ 3  \n",
    "equal(3, 4, 1) ➞ 0  \n",
    "Notes  \n",
    "Your function must return 0, 2 or 3.  "
   ]
  },
  {
   "cell_type": "code",
   "execution_count": 3,
   "id": "1591d2ca",
   "metadata": {},
   "outputs": [
    {
     "name": "stdout",
     "output_type": "stream",
     "text": [
      "2\n",
      "3\n",
      "0\n"
     ]
    }
   ],
   "source": [
    "def equal(a,b,c):\n",
    "    if a==b and b==c and c==a:\n",
    "        return 3\n",
    "    elif a==b or b==c or c==a:\n",
    "        return 2\n",
    "    else:\n",
    "        return 0\n",
    "    \n",
    "print(equal(3,4,3))\n",
    "print(equal(1,1,1))\n",
    "print(equal(3,4,1))"
   ]
  },
  {
   "cell_type": "markdown",
   "id": "5e56381f",
   "metadata": {},
   "source": [
    "=============================================================================================================="
   ]
  },
  {
   "cell_type": "markdown",
   "id": "de05fe28",
   "metadata": {},
   "source": [
    "## Question2  \n",
    "Write a function that converts a dictionary into a list of keys-values tuples.  \n",
    "Examples  \n",
    "dict_to_list({  \n",
    "&quot;D&quot;: 1,  \n",
    "&quot;B&quot;: 2,  \n",
    "&quot;C&quot;: 3  \n",
    "}) ➞ [(&quot;B&quot;, 2), (&quot;C&quot;, 3), (&quot;D&quot;, 1)]  \n",
    "dict_to_list({  \n",
    "&quot;likes&quot;: 2,  \n",
    "&quot;dislikes&quot;: 3,  \n",
    "&quot;followers&quot;: 10  \n",
    "}) ➞ [(&quot;dislikes&quot;, 3), (&quot;followers&quot;, 10), (&quot;likes&quot;, 2)]   \n",
    "Notes  \n",
    "Return the elements in the list in alphabetical order.  "
   ]
  },
  {
   "cell_type": "code",
   "execution_count": 27,
   "id": "dd7c7b0e",
   "metadata": {},
   "outputs": [
    {
     "data": {
      "text/plain": [
       "[('B', 2), ('C', 3), ('D', 1)]"
      ]
     },
     "execution_count": 27,
     "metadata": {},
     "output_type": "execute_result"
    }
   ],
   "source": [
    "def dict_to_list(d):\n",
    "    return sorted(list(d.items()))\n",
    "        \n",
    "dict_to_list({\"D\": 1,\"B\": 2,\"C\": 3}) "
   ]
  },
  {
   "cell_type": "markdown",
   "id": "43c7d539",
   "metadata": {},
   "source": [
    "=============================================================================================================="
   ]
  },
  {
   "cell_type": "markdown",
   "id": "c1d2eff6",
   "metadata": {},
   "source": [
    "## Question3  \n",
    "Write a function that creates a dictionary with each (key, value) pair being the (lower case, upper case) versions of a letter, respectively.  \n",
    "Examples  \n",
    "mapping([&quot;p&quot;, &quot;s&quot;]) ➞ { &quot;p&quot;: &quot;P&quot;, &quot;s&quot;: &quot;S&quot; }  \n",
    " \n",
    "mapping([&quot;a&quot;, &quot;b&quot;, &quot;c&quot;]) ➞ { &quot;a&quot;: &quot;A&quot;, &quot;b&quot;: &quot;B&quot;, &quot;c&quot;: &quot;C&quot; }  \n",
    "mapping([&quot;a&quot;, &quot;v&quot;, &quot;y&quot;, &quot;z&quot;]) ➞ { &quot;a&quot;: &quot;A&quot;, &quot;v&quot;: &quot;V&quot;, &quot;y&quot;: &quot;Y&quot;, &quot;z&quot;: &quot;Z&quot; }  \n",
    "Notes  \n",
    "All of the letters in the input list will always be lowercase.  "
   ]
  },
  {
   "cell_type": "code",
   "execution_count": 40,
   "id": "3982e193",
   "metadata": {},
   "outputs": [
    {
     "name": "stdout",
     "output_type": "stream",
     "text": [
      "{'p': 'P', 's': 'S'}\n"
     ]
    }
   ],
   "source": [
    "def mapping(l):\n",
    "    d = {}\n",
    "    for i in l:\n",
    "        d[i.lower()] = i.upper()\n",
    "    print(d)\n",
    "        \n",
    "mapping(['p','s'])"
   ]
  },
  {
   "cell_type": "markdown",
   "id": "ae1e58ad",
   "metadata": {},
   "source": [
    "=============================================================================================================="
   ]
  },
  {
   "cell_type": "markdown",
   "id": "79f3b9f5",
   "metadata": {},
   "source": [
    "## Question4  \n",
    "Write a function, that replaces all vowels in a string with a specified vowel.  \n",
    "Examples  \n",
    "vow_replace(&quot;apples and bananas&quot;, &quot;u&quot;) ➞ &quot;upplus und bununus&quot;  \n",
    "vow_replace(&quot;cheese casserole&quot;, &quot;o&quot;) ➞ &quot;chooso cossorolo&quot;  \n",
    "vow_replace(&quot;stuffed jalapeno poppers&quot;, &quot;e&quot;) ➞ &quot;steffed jelepene peppers&quot;  \n",
    "Notes  \n",
    "All words will be lowercase. Y is not considered a vowel.  "
   ]
  },
  {
   "cell_type": "code",
   "execution_count": 45,
   "id": "c403fa7f",
   "metadata": {},
   "outputs": [
    {
     "data": {
      "text/plain": [
       "'upples und bununus'"
      ]
     },
     "execution_count": 45,
     "metadata": {},
     "output_type": "execute_result"
    }
   ],
   "source": [
    "def vow_replace(sentense,s):\n",
    "    for i in sentense:\n",
    "        if i in ['a','e','i','o','u']:\n",
    "            r = sentense.replace(i,s)\n",
    "    return r\n",
    "        \n",
    "vow_replace(\"apples and bananas\", \"u\")"
   ]
  },
  {
   "cell_type": "markdown",
   "id": "748db39f",
   "metadata": {},
   "source": [
    "=============================================================================================================="
   ]
  },
  {
   "cell_type": "markdown",
   "id": "9f1bdc92",
   "metadata": {},
   "source": [
    "## Question5  \n",
    "Create a function that takes a string as input and capitalizes a letter if its ASCII code is even and returns its lower case version if its ASCII code is odd.  \n",
    "Examples  \n",
    "ascii_capitalize(&quot;to be or not to be!&quot;) ➞ &quot;To Be oR NoT To Be!&quot;  \n",
    "ascii_capitalize(&quot;THE LITTLE MERMAID&quot;) ➞ &quot;THe LiTTLe meRmaiD&quot;  \n",
    "ascii_capitalize(&quot;Oh what a beautiful morning.&quot;) ➞ &quot;oH wHaT a BeauTiFuL moRNiNg.&quot;  "
   ]
  },
  {
   "cell_type": "code",
   "execution_count": 4,
   "id": "1fa390ac",
   "metadata": {},
   "outputs": [
    {
     "data": {
      "text/plain": [
       "'To Be oR NoT To Be!'"
      ]
     },
     "execution_count": 4,
     "metadata": {},
     "output_type": "execute_result"
    }
   ],
   "source": [
    "def ascii_capitalize(s):\n",
    "    x= ''\n",
    "    for i in s:\n",
    "        d = ord(i)\n",
    "        if d%2==0:\n",
    "            x += i.upper()\n",
    "        else:\n",
    "            x += i.lower()\n",
    "    return x\n",
    "\n",
    "ascii_capitalize(\"to be or not to be!\")"
   ]
  },
  {
   "cell_type": "markdown",
   "id": "2a02aea1",
   "metadata": {},
   "source": [
    "=============================================================================================================="
   ]
  }
 ],
 "metadata": {
  "kernelspec": {
   "display_name": "Python 3",
   "language": "python",
   "name": "python3"
  },
  "language_info": {
   "codemirror_mode": {
    "name": "ipython",
    "version": 3
   },
   "file_extension": ".py",
   "mimetype": "text/x-python",
   "name": "python",
   "nbconvert_exporter": "python",
   "pygments_lexer": "ipython3",
   "version": "3.6.2"
  }
 },
 "nbformat": 4,
 "nbformat_minor": 5
}
