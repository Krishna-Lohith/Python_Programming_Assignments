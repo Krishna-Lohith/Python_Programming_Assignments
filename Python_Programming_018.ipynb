{
 "cells": [
  {
   "cell_type": "markdown",
   "id": "7e2fa659",
   "metadata": {},
   "source": [
    "# Python_Programming_Assignment_018"
   ]
  },
  {
   "cell_type": "markdown",
   "id": "4425eade",
   "metadata": {},
   "source": [
    "**Topics covered:-**  \n",
    "List comprahension   \n",
    "functions - *args  \n",
    "Factorial   "
   ]
  },
  {
   "cell_type": "markdown",
   "id": "96abbc28",
   "metadata": {},
   "source": [
    "=============================================================================================================="
   ]
  },
  {
   "cell_type": "markdown",
   "id": "eeede5f8",
   "metadata": {},
   "source": [
    "## Question 1  \n",
    "Create a function that takes a list of non-negative integers and strings and return a new list without the strings.  \n",
    "Examples  \n",
    "filter_list([1, 2, &quot;a&quot;, &quot;b&quot;]) ➞ [1, 2]  \n",
    "filter_list([1, &quot;a&quot;, &quot;b&quot;, 0, 15]) ➞ [1, 0, 15]  \n",
    "filter_list([1, 2, &quot;aasf&quot;, &quot;1&quot;, &quot;123&quot;, 123]) ➞ [1, 2, 123]  "
   ]
  },
  {
   "cell_type": "code",
   "execution_count": 24,
   "id": "0e1d31f6",
   "metadata": {},
   "outputs": [],
   "source": [
    "def filter_list(*args):\n",
    "    return [i for i in args if type(i)==int]"
   ]
  },
  {
   "cell_type": "code",
   "execution_count": 25,
   "id": "dab392ab",
   "metadata": {},
   "outputs": [
    {
     "data": {
      "text/plain": [
       "[1, 2]"
      ]
     },
     "execution_count": 25,
     "metadata": {},
     "output_type": "execute_result"
    }
   ],
   "source": [
    "filter_list(1,2,'a','b')"
   ]
  },
  {
   "cell_type": "markdown",
   "id": "f0fdb947",
   "metadata": {},
   "source": [
    "=============================================================================================================="
   ]
  },
  {
   "cell_type": "markdown",
   "id": "3d2feb5e",
   "metadata": {},
   "source": [
    "## Question 2  \n",
    "The &quot;Reverser&quot; takes a string as input and returns that string in reverse order, with the opposite case.  \n",
    "Examples  \n",
    "reverse(&quot;Hello World&quot;) ➞ &quot;DLROw OLLEh&quot;  \n",
    "reverse(&quot;ReVeRsE&quot;) ➞ &quot;eSrEvEr&quot;  \n",
    "reverse(&quot;Radar&quot;) ➞ &quot;RADAr&quot;  "
   ]
  },
  {
   "cell_type": "code",
   "execution_count": 30,
   "id": "ecb695b3",
   "metadata": {},
   "outputs": [
    {
     "data": {
      "text/plain": [
       "'eSrEvEr'"
      ]
     },
     "execution_count": 30,
     "metadata": {},
     "output_type": "execute_result"
    }
   ],
   "source": [
    "def reverse(s):\n",
    "    t = \"\"\n",
    "    s = s[::-1]\n",
    "    for i in s:\n",
    "        if i.islower():\n",
    "            t += i.upper()\n",
    "        else:\n",
    "            t += i.lower()\n",
    "    return t\n",
    "reverse('ReVeRsE')"
   ]
  },
  {
   "cell_type": "markdown",
   "id": "2e8185a2",
   "metadata": {},
   "source": [
    "=============================================================================================================="
   ]
  },
  {
   "cell_type": "markdown",
   "id": "62860d97",
   "metadata": {},
   "source": [
    "## Question 3  \n",
    "You can assign variables from lists like this:  \n",
    "lst = [1, 2, 3, 4, 5, 6]  \n",
    "first = lst[0]  \n",
    "middle = lst[1:-1]  \n",
    "last = lst[-1]  \n",
    "print(first) ➞ outputs 1  \n",
    "print(middle) ➞ outputs [2, 3, 4, 5]  \n",
    "print(last) ➞ outputs 6  \n",
    "With Python 3, you can assign variables from lists in a much more succinct way. Create variables first, middle and last from the given list using destructuring assignment(check the Resources tab for some examples), where:  \n",
    "first ➞ 1  \n",
    "middle ➞ [2, 3, 4, 5]  \n",
    "last ➞ 6  \n",
    "\n",
    "Your task is to unpack the list writeyourcodehere into three variables, being first, middle, and last, with middle being everything in between the first and last element. Then print all three variables.  "
   ]
  },
  {
   "cell_type": "code",
   "execution_count": 31,
   "id": "25b12964",
   "metadata": {},
   "outputs": [
    {
     "name": "stdout",
     "output_type": "stream",
     "text": [
      "1\n",
      "[2, 3, 4, 5]\n",
      "6\n"
     ]
    }
   ],
   "source": [
    "lst = [1, 2, 3, 4, 5, 6]\n",
    "first, *middle, last = lst\n",
    "print(first)  # outputs 1\n",
    "print(middle)  # outputs [2, 3, 4, 5]\n",
    "print(last)  # outputs 6"
   ]
  },
  {
   "cell_type": "markdown",
   "id": "e8fd8a2e",
   "metadata": {},
   "source": [
    "=============================================================================================================="
   ]
  },
  {
   "cell_type": "markdown",
   "id": "73e65870",
   "metadata": {},
   "source": [
    "## Question 4\n",
    "Write a function that calculates the factorial of a number recursively.  \n",
    "Examples  \n",
    "factorial(5) ➞ 120  \n",
    "factorial(3) ➞ 6  \n",
    "factorial(1) ➞ 1  \n",
    "factorial(0) ➞ 1"
   ]
  },
  {
   "cell_type": "code",
   "execution_count": 38,
   "id": "dbb5c3c7",
   "metadata": {},
   "outputs": [
    {
     "data": {
      "text/plain": [
       "120"
      ]
     },
     "execution_count": 38,
     "metadata": {},
     "output_type": "execute_result"
    }
   ],
   "source": [
    "def fact(n):\n",
    "    if n>1:\n",
    "        n =  n * fact(n-1)\n",
    "    return n\n",
    "    \n",
    "fact(5)"
   ]
  },
  {
   "cell_type": "markdown",
   "id": "0a72e441",
   "metadata": {},
   "source": [
    "=============================================================================================================="
   ]
  },
  {
   "cell_type": "markdown",
   "id": "fad84c25",
   "metadata": {},
   "source": [
    "## Question 5  \n",
    "Write a function that moves all elements of one type to the end of the list.  \n",
    "Examples  \n",
    "move_to_end([1, 3, 2, 4, 4, 1], 1) ➞ [3, 2, 4, 4, 1, 1]  \n",
    "### Move all the 1s to the end of the array.  \n",
    "move_to_end([7, 8, 9, 1, 2, 3, 4], 9) ➞ [7, 8, 1, 2, 3, 4, 9]  \n",
    "move_to_end([&quot;a&quot;, &quot;a&quot;, &quot;a&quot;, &quot;b&quot;], &quot;a&quot;) ➞ [&quot;b&quot;, &quot;a&quot;, &quot;a&quot;, &quot;a&quot;]  "
   ]
  },
  {
   "cell_type": "code",
   "execution_count": 46,
   "id": "f6fb78dc",
   "metadata": {},
   "outputs": [
    {
     "data": {
      "text/plain": [
       "[4, 3, 2, 4, 1, 1]"
      ]
     },
     "execution_count": 46,
     "metadata": {},
     "output_type": "execute_result"
    }
   ],
   "source": [
    "def move_to_end(lst, elem):\n",
    "    i = 0\n",
    "    j = len(lst) - 1\n",
    "    while i < j:\n",
    "        if lst[i] == elem:\n",
    "            lst[i], lst[j] = lst[j], lst[i]\n",
    "            j -= 1\n",
    "        else:\n",
    "            i += 1\n",
    "    return lst\n",
    "\n",
    "move_to_end([1,3,2,4,4,1],1)"
   ]
  },
  {
   "cell_type": "markdown",
   "id": "ee232662",
   "metadata": {},
   "source": [
    "=============================================================================================================="
   ]
  }
 ],
 "metadata": {
  "kernelspec": {
   "display_name": "Python 3",
   "language": "python",
   "name": "python3"
  },
  "language_info": {
   "codemirror_mode": {
    "name": "ipython",
    "version": 3
   },
   "file_extension": ".py",
   "mimetype": "text/x-python",
   "name": "python",
   "nbconvert_exporter": "python",
   "pygments_lexer": "ipython3",
   "version": "3.6.2"
  }
 },
 "nbformat": 4,
 "nbformat_minor": 5
}
