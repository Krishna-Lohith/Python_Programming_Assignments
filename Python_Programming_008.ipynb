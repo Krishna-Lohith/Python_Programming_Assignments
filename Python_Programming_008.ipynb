{
 "cells": [
  {
   "cell_type": "markdown",
   "id": "94acbef6",
   "metadata": {},
   "source": [
    "# Python_Programming_Assignment_008"
   ]
  },
  {
   "cell_type": "markdown",
   "id": "389c486c",
   "metadata": {},
   "source": [
    "**Concepts used:-**    \n",
    "Numpy  \n",
    "string library  "
   ]
  },
  {
   "cell_type": "markdown",
   "id": "890e47d8",
   "metadata": {},
   "source": [
    "=============================================================================================================="
   ]
  },
  {
   "cell_type": "markdown",
   "id": "1d71c1e4",
   "metadata": {},
   "source": [
    "### 1. Write a Python Program to Add Two Matrices?"
   ]
  },
  {
   "cell_type": "code",
   "execution_count": 1,
   "id": "dbc0252f",
   "metadata": {},
   "outputs": [],
   "source": [
    "import numpy as np"
   ]
  },
  {
   "cell_type": "code",
   "execution_count": 68,
   "id": "5bbc0d7b",
   "metadata": {},
   "outputs": [],
   "source": [
    "m1 = np.array([[2,3],[4,5]])   # assigning 2x2 matrix into m1"
   ]
  },
  {
   "cell_type": "code",
   "execution_count": 69,
   "id": "cbf75e65",
   "metadata": {},
   "outputs": [
    {
     "data": {
      "text/plain": [
       "2"
      ]
     },
     "execution_count": 69,
     "metadata": {},
     "output_type": "execute_result"
    }
   ],
   "source": [
    "m1.ndim                # checks number of dimentions in an array."
   ]
  },
  {
   "cell_type": "code",
   "execution_count": 70,
   "id": "b697363f",
   "metadata": {},
   "outputs": [
    {
     "data": {
      "text/plain": [
       "(2, 2)"
      ]
     },
     "execution_count": 70,
     "metadata": {},
     "output_type": "execute_result"
    }
   ],
   "source": [
    "m1.shape   # 2 rows and 3 columns"
   ]
  },
  {
   "cell_type": "code",
   "execution_count": 71,
   "id": "a754af92",
   "metadata": {},
   "outputs": [],
   "source": [
    "m2 = np.array([[7,8],[9,1]])   # assigning 2x2 matrix into m2"
   ]
  },
  {
   "cell_type": "code",
   "execution_count": 72,
   "id": "a036ce30",
   "metadata": {},
   "outputs": [
    {
     "data": {
      "text/plain": [
       "array([[7, 8],\n",
       "       [9, 1]])"
      ]
     },
     "execution_count": 72,
     "metadata": {},
     "output_type": "execute_result"
    }
   ],
   "source": [
    "m2"
   ]
  },
  {
   "cell_type": "code",
   "execution_count": 73,
   "id": "31160626",
   "metadata": {},
   "outputs": [
    {
     "data": {
      "text/plain": [
       "array([[ 9, 11],\n",
       "       [13,  6]])"
      ]
     },
     "execution_count": 73,
     "metadata": {},
     "output_type": "execute_result"
    }
   ],
   "source": [
    "m1 + m2"
   ]
  },
  {
   "cell_type": "markdown",
   "id": "1203ade0",
   "metadata": {},
   "source": [
    "=============================================================================================================="
   ]
  },
  {
   "cell_type": "markdown",
   "id": "1b63b754",
   "metadata": {},
   "source": [
    "### 2. Write a Python Program to Multiply Two Matrices?"
   ]
  },
  {
   "cell_type": "code",
   "execution_count": 74,
   "id": "3c3524d6",
   "metadata": {},
   "outputs": [
    {
     "data": {
      "text/plain": [
       "array([[14, 24],\n",
       "       [36,  5]])"
      ]
     },
     "execution_count": 74,
     "metadata": {},
     "output_type": "execute_result"
    }
   ],
   "source": [
    "m1 * m2  # this is just an element wise multiplication"
   ]
  },
  {
   "cell_type": "code",
   "execution_count": 75,
   "id": "ed6b70eb",
   "metadata": {},
   "outputs": [
    {
     "name": "stdout",
     "output_type": "stream",
     "text": [
      "(2, 2)\n",
      "(2, 2)\n"
     ]
    }
   ],
   "source": [
    "print(m1.shape)\n",
    "print(m2.shape)"
   ]
  },
  {
   "cell_type": "code",
   "execution_count": 76,
   "id": "20112ad6",
   "metadata": {},
   "outputs": [
    {
     "data": {
      "text/plain": [
       "array([[41, 19],\n",
       "       [73, 37]])"
      ]
     },
     "execution_count": 76,
     "metadata": {},
     "output_type": "execute_result"
    }
   ],
   "source": [
    "# This is an actual multiplication\n",
    "# number of rows and columns should be equal in both matrixes\n",
    "m1@m2"
   ]
  },
  {
   "cell_type": "markdown",
   "id": "ad552f1d",
   "metadata": {},
   "source": [
    "=============================================================================================================="
   ]
  },
  {
   "cell_type": "markdown",
   "id": "f39ac439",
   "metadata": {},
   "source": [
    "### 3. Write a Python Program to Transpose a Matrix?"
   ]
  },
  {
   "cell_type": "code",
   "execution_count": 77,
   "id": "cd2e7d97",
   "metadata": {},
   "outputs": [],
   "source": [
    "m = np.array( [ [ [2,3],[4,5],[7,9] ] ] )"
   ]
  },
  {
   "cell_type": "code",
   "execution_count": 78,
   "id": "fb69325e",
   "metadata": {},
   "outputs": [
    {
     "data": {
      "text/plain": [
       "3"
      ]
     },
     "execution_count": 78,
     "metadata": {},
     "output_type": "execute_result"
    }
   ],
   "source": [
    "m.ndim   #3*2 matrics"
   ]
  },
  {
   "cell_type": "code",
   "execution_count": 79,
   "id": "b8e7d962",
   "metadata": {},
   "outputs": [
    {
     "data": {
      "text/plain": [
       "(1, 3, 2)"
      ]
     },
     "execution_count": 79,
     "metadata": {},
     "output_type": "execute_result"
    }
   ],
   "source": [
    "m.shape"
   ]
  },
  {
   "cell_type": "code",
   "execution_count": 83,
   "id": "1a8009c0",
   "metadata": {},
   "outputs": [],
   "source": [
    "rows, cols, matrix = m.shape   # single matrix with 3 rows and 2 columns"
   ]
  },
  {
   "cell_type": "code",
   "execution_count": 84,
   "id": "4f93ea3b",
   "metadata": {},
   "outputs": [
    {
     "data": {
      "text/plain": [
       "array([[[2, 3],\n",
       "        [4, 5],\n",
       "        [7, 9]]])"
      ]
     },
     "execution_count": 84,
     "metadata": {},
     "output_type": "execute_result"
    }
   ],
   "source": [
    "m"
   ]
  },
  {
   "cell_type": "code",
   "execution_count": 86,
   "id": "b652fdc6",
   "metadata": {},
   "outputs": [
    {
     "data": {
      "text/plain": [
       "array([[[2],\n",
       "        [4],\n",
       "        [7]],\n",
       "\n",
       "       [[3],\n",
       "        [5],\n",
       "        [9]]])"
      ]
     },
     "execution_count": 86,
     "metadata": {},
     "output_type": "execute_result"
    }
   ],
   "source": [
    "# Transpose of a matrix\n",
    "m.transpose()"
   ]
  },
  {
   "cell_type": "markdown",
   "id": "6c50e881",
   "metadata": {},
   "source": [
    "=============================================================================================================="
   ]
  },
  {
   "cell_type": "markdown",
   "id": "cade165e",
   "metadata": {},
   "source": [
    "### 4. Write a Python Program to Sort Words in Alphabetic Order?"
   ]
  },
  {
   "cell_type": "code",
   "execution_count": 173,
   "id": "42c2fe0c",
   "metadata": {},
   "outputs": [
    {
     "data": {
      "text/plain": [
       "['a', 'h', 'i', 'k', 'n', 'r', 's']"
      ]
     },
     "execution_count": 173,
     "metadata": {},
     "output_type": "execute_result"
    }
   ],
   "source": [
    "s = 'krishna'\n",
    "l = list(s)\n",
    "l.sort()\n",
    "l"
   ]
  },
  {
   "cell_type": "code",
   "execution_count": 174,
   "id": "4c29daac",
   "metadata": {},
   "outputs": [
    {
     "data": {
      "text/plain": [
       "[' ',\n",
       " ' ',\n",
       " ' ',\n",
       " 'a',\n",
       " 'h',\n",
       " 'h',\n",
       " 'h',\n",
       " 'i',\n",
       " 'i',\n",
       " 'k',\n",
       " 'l',\n",
       " 'n',\n",
       " 'o',\n",
       " 'r',\n",
       " 's',\n",
       " 't']"
      ]
     },
     "execution_count": 174,
     "metadata": {},
     "output_type": "execute_result"
    }
   ],
   "source": [
    "s = \" krishna lohith \"\n",
    "l = list(s)\n",
    "l.sort()\n",
    "l  # sorts in alphabetical order."
   ]
  },
  {
   "cell_type": "markdown",
   "id": "df20b42f",
   "metadata": {},
   "source": [
    "=============================================================================================================="
   ]
  },
  {
   "cell_type": "markdown",
   "id": "9cc665ea",
   "metadata": {},
   "source": [
    "### 5. Write a Python Program to Remove Punctuation From a String?"
   ]
  },
  {
   "cell_type": "code",
   "execution_count": 254,
   "id": "490d2c4e",
   "metadata": {},
   "outputs": [
    {
     "name": "stdout",
     "output_type": "stream",
     "text": [
      "Hello World This is a sample string\n"
     ]
    }
   ],
   "source": [
    "import string\n",
    "\n",
    "def some(s):\n",
    "    x = ''\n",
    "    p = set(string.punctuation) \n",
    "    for i in s:\n",
    "        if i not in p:\n",
    "            x += i\n",
    "    return x\n",
    "\n",
    "input_string = \"Hello, World! This is a sample string.\"\n",
    "c = some(input_string)\n",
    "print(c)"
   ]
  },
  {
   "cell_type": "markdown",
   "id": "ff644ce7",
   "metadata": {},
   "source": [
    "=============================================================================================================="
   ]
  }
 ],
 "metadata": {
  "kernelspec": {
   "display_name": "Python 3",
   "language": "python",
   "name": "python3"
  },
  "language_info": {
   "codemirror_mode": {
    "name": "ipython",
    "version": 3
   },
   "file_extension": ".py",
   "mimetype": "text/x-python",
   "name": "python",
   "nbconvert_exporter": "python",
   "pygments_lexer": "ipython3",
   "version": "3.6.2"
  }
 },
 "nbformat": 4,
 "nbformat_minor": 5
}
