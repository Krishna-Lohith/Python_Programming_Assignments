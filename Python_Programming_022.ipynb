{
 "cells": [
  {
   "cell_type": "markdown",
   "id": "c3754e92",
   "metadata": {},
   "source": [
    "# Python_Programming_Assignment_022"
   ]
  },
  {
   "cell_type": "markdown",
   "id": "d2607f0c",
   "metadata": {},
   "source": [
    "**Topics covered:-**  \n",
    "lambda functions  \n",
    "list comprahensions  \n",
    "string functions  "
   ]
  },
  {
   "cell_type": "markdown",
   "id": "2823bf08",
   "metadata": {},
   "source": [
    "=============================================================================================================="
   ]
  },
  {
   "cell_type": "markdown",
   "id": "216d4ed2",
   "metadata": {},
   "source": [
    "## Question1  \n",
    "Create a function that takes three parameters where:  \n",
    " x is the start of the range (inclusive).  \n",
    " y is the end of the range (inclusive).  \n",
    " n is the divisor to be checked against.  \n",
    "Return an ordered list with numbers in the range that are divisible by the third parameter n.  \n",
    "Return an empty list if there are no numbers that are divisible by n.  \n",
    "Examples  \n",
    "list_operation(1, 10, 3) ➞ [3, 6, 9]  \n",
    "list_operation(7, 9, 2) ➞ [8]   \n",
    "list_operation(15, 20, 7) ➞ []  "
   ]
  },
  {
   "cell_type": "code",
   "execution_count": 3,
   "id": "1fec35a8",
   "metadata": {},
   "outputs": [
    {
     "data": {
      "text/plain": [
       "[3, 6, 9]"
      ]
     },
     "execution_count": 3,
     "metadata": {},
     "output_type": "execute_result"
    }
   ],
   "source": [
    "list_operation = lambda start, end, div: [ i for i in range(start, end) if i%div == 0]\n",
    "list_operation(1,10,3)"
   ]
  },
  {
   "cell_type": "markdown",
   "id": "9cca7cf6",
   "metadata": {},
   "source": [
    "=============================================================================================================="
   ]
  },
  {
   "cell_type": "markdown",
   "id": "8640ce0a",
   "metadata": {},
   "source": [
    "## Question2  \n",
    "Create a function that takes in two lists and returns True if the second list follows the first list by one element, and False otherwise. In other words, determine if the second list is the first list shifted to the right by 1.  \n",
    "Examples  \n",
    "simon_says([1, 2], [5, 1]) ➞ True  \n",
    "simon_says([1, 2], [5, 5]) ➞ False  \n",
    "simon_says([1, 2, 3, 4, 5], [0, 1, 2, 3, 4]) ➞ True  \n",
    "simon_says([1, 2, 3, 4, 5], [5, 5, 1, 2, 3]) ➞ False  \n",
    "Notes   \n",
    " Both input lists will be of the same length, and will have a minimum length of 2.  \n",
    " The values of the 0-indexed element in the second list and the n-1th indexed element in the first list do not matter.  "
   ]
  },
  {
   "cell_type": "code",
   "execution_count": 6,
   "id": "472e0a61",
   "metadata": {},
   "outputs": [
    {
     "data": {
      "text/plain": [
       "True"
      ]
     },
     "execution_count": 6,
     "metadata": {},
     "output_type": "execute_result"
    }
   ],
   "source": [
    "def simon_says(lst1, lst2):\n",
    "    return lst1[:-1] == lst2[1:]\n",
    "\n",
    "simon_says([1, 2], [5, 1]) "
   ]
  },
  {
   "cell_type": "markdown",
   "id": "3e9ab46b",
   "metadata": {},
   "source": [
    "=============================================================================================================="
   ]
  },
  {
   "cell_type": "markdown",
   "id": "ff24f3ae",
   "metadata": {},
   "source": [
    "## Question3  \n",
    "A group of friends have decided to start a secret society. The name will be the first letter of each of their names, sorted in alphabetical order.  \n",
    "Create a function that takes in a list of names and returns the name of the secret society.  \n",
    "Examples  \n",
    "society_name([&quot;Adam&quot;, &quot;Sarah&quot;, &quot;Malcolm&quot;]) ➞ &quot;AMS&quot;  \n",
    "society_name([&quot;Harry&quot;, &quot;Newt&quot;, &quot;Luna&quot;, &quot;Cho&quot;]) ➞ &quot;CHLN&quot;  \n",
    "society_name([&quot;Phoebe&quot;, &quot;Chandler&quot;, &quot;Rachel&quot;, &quot;Ross&quot;, &quot;Monica&quot;, &quot;Joey&quot;])  "
   ]
  },
  {
   "cell_type": "code",
   "execution_count": 41,
   "id": "f99b1139",
   "metadata": {},
   "outputs": [
    {
     "data": {
      "text/plain": [
       "'AMS'"
      ]
     },
     "execution_count": 41,
     "metadata": {},
     "output_type": "execute_result"
    }
   ],
   "source": [
    "def society_name(l): \n",
    "    c = ''\n",
    "    for i in l:\n",
    "        x = [i[0] for i in l]\n",
    "    return ''.join(sorted(x))\n",
    "\n",
    "society_name([\"Adam\", \"Sarah\", \"Malcolm\"])"
   ]
  },
  {
   "cell_type": "markdown",
   "id": "9c97b1fc",
   "metadata": {},
   "source": [
    "=============================================================================================================="
   ]
  },
  {
   "cell_type": "markdown",
   "id": "af728f9f",
   "metadata": {},
   "source": [
    "## Question4  \n",
    "An isogram is a word that has no duplicate letters. Create a function that takes a string and returns either True or False depending on whether or not it&#39;s an &quot;isogram&quot;.  \n",
    "Examples  \n",
    "is_isogram(&quot;Algorism&quot;) ➞ True  \n",
    "is_isogram(&quot;PasSword&quot;) ➞ False  \n",
    "Not case sensitive.  \n",
    "is_isogram(&quot;Consecutive&quot;) ➞ False  \n",
    "Notes  \n",
    " Ignore letter case (should not be case sensitive).  \n",
    " All test cases contain valid one word strings.  "
   ]
  },
  {
   "cell_type": "code",
   "execution_count": 59,
   "id": "6445f8c5",
   "metadata": {},
   "outputs": [
    {
     "data": {
      "text/plain": [
       "False"
      ]
     },
     "execution_count": 59,
     "metadata": {},
     "output_type": "execute_result"
    }
   ],
   "source": [
    "def is_isogram(s):\n",
    "    low  = s.lower()\n",
    "    t = set(low)\n",
    "    if len(s) == len(t):\n",
    "        return True\n",
    "    else:\n",
    "        return False\n",
    "            \n",
    "is_isogram('pasSword')"
   ]
  },
  {
   "cell_type": "markdown",
   "id": "3425bc6e",
   "metadata": {},
   "source": [
    "=============================================================================================================="
   ]
  },
  {
   "cell_type": "markdown",
   "id": "0c1fb43d",
   "metadata": {},
   "source": [
    "## Question5  \n",
    "Create a function that takes a string and returns True or False, depending on whether the characters are in order or not.  \n",
    "Examples  \n",
    "is_in_order(&quot;abc&quot;) ➞ True  \n",
    "is_in_order(&quot;edabit&quot;) ➞ False  \n",
    "is_in_order(&quot;123&quot;) ➞ True  \n",
    "is_in_order(&quot;xyzz&quot;) ➞ True   \n",
    "Notes  \n",
    "You don&#39;t have to handle empty strings.  "
   ]
  },
  {
   "cell_type": "code",
   "execution_count": 67,
   "id": "a799abe5",
   "metadata": {},
   "outputs": [
    {
     "data": {
      "text/plain": [
       "True"
      ]
     },
     "execution_count": 67,
     "metadata": {},
     "output_type": "execute_result"
    }
   ],
   "source": [
    "def is_in_order(s):\n",
    "    x = ''.join(sorted(s))\n",
    "    if s == x:\n",
    "        return True\n",
    "    else:\n",
    "        return False\n",
    "    \n",
    "is_in_order('abcd')"
   ]
  },
  {
   "cell_type": "markdown",
   "id": "60e49351",
   "metadata": {},
   "source": [
    "=============================================================================================================="
   ]
  }
 ],
 "metadata": {
  "kernelspec": {
   "display_name": "Python 3",
   "language": "python",
   "name": "python3"
  },
  "language_info": {
   "codemirror_mode": {
    "name": "ipython",
    "version": 3
   },
   "file_extension": ".py",
   "mimetype": "text/x-python",
   "name": "python",
   "nbconvert_exporter": "python",
   "pygments_lexer": "ipython3",
   "version": "3.6.2"
  }
 },
 "nbformat": 4,
 "nbformat_minor": 5
}
