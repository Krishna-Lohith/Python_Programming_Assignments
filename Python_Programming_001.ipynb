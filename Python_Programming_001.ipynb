{
 "cells": [
  {
   "cell_type": "markdown",
   "id": "1d916652",
   "metadata": {},
   "source": [
    "# Python Programming Assignment__001"
   ]
  },
  {
   "cell_type": "markdown",
   "id": "6bc5356d",
   "metadata": {},
   "source": [
    "Concepts used:-   \n",
    "operators  \n",
    "random   "
   ]
  },
  {
   "cell_type": "markdown",
   "id": "9383409f",
   "metadata": {},
   "source": [
    "=============================================================================================================="
   ]
  },
  {
   "cell_type": "markdown",
   "id": "e6417997",
   "metadata": {},
   "source": [
    "## 1. Write a Python program to print &quot;Hello Python&quot;?"
   ]
  },
  {
   "cell_type": "code",
   "execution_count": 2,
   "id": "2f4867b8",
   "metadata": {},
   "outputs": [
    {
     "name": "stdout",
     "output_type": "stream",
     "text": [
      "Hello Python\n"
     ]
    }
   ],
   "source": [
    "print('Hello Python')"
   ]
  },
  {
   "cell_type": "code",
   "execution_count": 5,
   "id": "8ce01937",
   "metadata": {},
   "outputs": [
    {
     "name": "stdout",
     "output_type": "stream",
     "text": [
      "Enter something :- lohith\n",
      "lohith\n"
     ]
    }
   ],
   "source": [
    "n = input('Enter anything :- ')\n",
    "print(n)"
   ]
  },
  {
   "cell_type": "code",
   "execution_count": 2,
   "id": "625a3826",
   "metadata": {},
   "outputs": [
    {
     "name": "stdout",
     "output_type": "stream",
     "text": [
      "Enter something:- lohith\n"
     ]
    },
    {
     "data": {
      "text/plain": [
       "'lohith'"
      ]
     },
     "execution_count": 2,
     "metadata": {},
     "output_type": "execute_result"
    }
   ],
   "source": [
    "def q1():\n",
    "    \"\"\"\n",
    "    Write something to print\n",
    "    \"\"\"\n",
    "    return input('Enter something:- ')\n",
    "q1()"
   ]
  },
  {
   "cell_type": "markdown",
   "id": "9046f4f5",
   "metadata": {},
   "source": [
    "=============================================================================================================="
   ]
  },
  {
   "cell_type": "markdown",
   "id": "73ec646a",
   "metadata": {},
   "source": [
    "## 2.Write a Python program to do arithmetical operations addition and division.?"
   ]
  },
  {
   "cell_type": "code",
   "execution_count": 6,
   "id": "6d32adf2",
   "metadata": {},
   "outputs": [
    {
     "name": "stdout",
     "output_type": "stream",
     "text": [
      "Enter x value:- 5\n",
      "Enter y value:- 6\n",
      "Enter an operator for mathematical calculation(+, -, *, %, /, //):-  -\n",
      "-1\n"
     ]
    }
   ],
   "source": [
    "def calculator():\n",
    "    x = int(input('Enter x value:- '))\n",
    "    y = int(input('Enter y value:- '))\n",
    "    operator = input('Enter an operator for mathematical calculation(+, -, *, %, /, //):-  ')\n",
    "\n",
    "    if operator == '+':\n",
    "        print(x+y)\n",
    "    elif operator == '-':\n",
    "        print(x-y) \n",
    "    elif operator == '*':\n",
    "        print(x*y) \n",
    "    elif operator == '%':\n",
    "        print(x%y) \n",
    "    elif operator == '/':\n",
    "        print(x/y) \n",
    "    elif operator == '//':\n",
    "        print(x//y) \n",
    "calculator()"
   ]
  },
  {
   "cell_type": "markdown",
   "id": "fa6f5f01",
   "metadata": {},
   "source": [
    "=============================================================================================================="
   ]
  },
  {
   "cell_type": "markdown",
   "id": "e41cba81",
   "metadata": {},
   "source": [
    "## 3. Write a Python program to find the area of a triangle?"
   ]
  },
  {
   "cell_type": "code",
   "execution_count": 8,
   "id": "f76917f4",
   "metadata": {},
   "outputs": [
    {
     "data": {
      "text/plain": [
       "6.0"
      ]
     },
     "execution_count": 8,
     "metadata": {},
     "output_type": "execute_result"
    }
   ],
   "source": [
    "def q3(height: int, base:int )->int:\n",
    "    \"\"\"\n",
    "    Find area of a traingle\n",
    "    \"\"\"\n",
    "    return 0.5 * height * base\n",
    "q3(3,4)"
   ]
  },
  {
   "cell_type": "markdown",
   "id": "73655222",
   "metadata": {},
   "source": [
    "=============================================================================================================="
   ]
  },
  {
   "cell_type": "markdown",
   "id": "2c2f7f54",
   "metadata": {},
   "source": [
    "## 4. Write a Python program to swap two variables?"
   ]
  },
  {
   "cell_type": "code",
   "execution_count": 11,
   "id": "e5521ea0",
   "metadata": {},
   "outputs": [
    {
     "name": "stdout",
     "output_type": "stream",
     "text": [
      "Swapped values:-  3 2\n"
     ]
    }
   ],
   "source": [
    "def q4(a,b):\n",
    "    \"\"\"\n",
    "    swap 2 numbers\n",
    "    \"\"\"\n",
    "    c=0\n",
    "    c=b\n",
    "    b=a\n",
    "    a=c\n",
    "    print('Swapped values:- ',a,b)\n",
    "q4(2,3)"
   ]
  },
  {
   "cell_type": "markdown",
   "id": "6f9ce102",
   "metadata": {},
   "source": [
    "=============================================================================================================="
   ]
  },
  {
   "cell_type": "markdown",
   "id": "2f4dfd52",
   "metadata": {},
   "source": [
    "## 5. Write a Python program to generate a random number?"
   ]
  },
  {
   "cell_type": "code",
   "execution_count": 13,
   "id": "14b4e391",
   "metadata": {},
   "outputs": [],
   "source": [
    "import random"
   ]
  },
  {
   "cell_type": "code",
   "execution_count": 18,
   "id": "b32b67bf",
   "metadata": {},
   "outputs": [
    {
     "data": {
      "text/plain": [
       "0.33402667233113026"
      ]
     },
     "execution_count": 18,
     "metadata": {},
     "output_type": "execute_result"
    }
   ],
   "source": [
    "random.random()"
   ]
  },
  {
   "cell_type": "markdown",
   "id": "fcc0664b",
   "metadata": {},
   "source": [
    "=============================================================================================================="
   ]
  }
 ],
 "metadata": {
  "kernelspec": {
   "display_name": "Python 3",
   "language": "python",
   "name": "python3"
  },
  "language_info": {
   "codemirror_mode": {
    "name": "ipython",
    "version": 3
   },
   "file_extension": ".py",
   "mimetype": "text/x-python",
   "name": "python",
   "nbconvert_exporter": "python",
   "pygments_lexer": "ipython3",
   "version": "3.6.2"
  }
 },
 "nbformat": 4,
 "nbformat_minor": 5
}
