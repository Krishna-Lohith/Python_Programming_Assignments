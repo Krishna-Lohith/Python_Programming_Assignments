{
 "cells": [
  {
   "cell_type": "markdown",
   "id": "c2e108d8",
   "metadata": {},
   "source": [
    "# Python_Programming_Assignment_020"
   ]
  },
  {
   "cell_type": "markdown",
   "id": "0fad19d4",
   "metadata": {},
   "source": [
    "**Cocepts used:-**  \n",
    "lambda functions  \n",
    "list comprahensions    "
   ]
  },
  {
   "cell_type": "markdown",
   "id": "68cba658",
   "metadata": {},
   "source": [
    "=============================================================================================================="
   ]
  },
  {
   "cell_type": "markdown",
   "id": "ca659060",
   "metadata": {},
   "source": [
    "## Question1  \n",
    "Create a function that takes a list of strings and integers, and filters out the list so that it returns a list of integers only.  \n",
    "Examples  \n",
    "filter_list([1, 2, 3, &quot;a&quot;, &quot;b&quot;, 4]) ➞ [1, 2, 3, 4]  \n",
    "filter_list([&quot;A&quot;, 0, &quot;Edabit&quot;, 1729, &quot;Python&quot;, &quot;1729&quot;]) ➞ [0, 1729]  \n",
    "filter_list([&quot;Nothing&quot;, &quot;here&quot;]) ➞ []"
   ]
  },
  {
   "cell_type": "code",
   "execution_count": 3,
   "id": "a811ee1d",
   "metadata": {},
   "outputs": [
    {
     "data": {
      "text/plain": [
       "[1, 2, 777]"
      ]
     },
     "execution_count": 3,
     "metadata": {},
     "output_type": "execute_result"
    }
   ],
   "source": [
    "filter_list = lambda l: [i for i in l if isinstance(i,int)]\n",
    "filter_list([1,'a',2,'f',777,'d'])"
   ]
  },
  {
   "cell_type": "markdown",
   "id": "cf57a911",
   "metadata": {},
   "source": [
    "=============================================================================================================="
   ]
  },
  {
   "cell_type": "markdown",
   "id": "93f32b4f",
   "metadata": {},
   "source": [
    "## Question2  \n",
    "Given a list of numbers, create a function which returns the list but with each element&#39;s index in the list added to itself. This means you add 0 to the number at index 0, add 1 to the number at index 1, etc...  \n",
    "Examples  \n",
    "add_indexes([0, 0, 0, 0, 0]) ➞ [0, 1, 2, 3, 4]  \n",
    "add_indexes([1, 2, 3, 4, 5]) ➞ [1, 3, 5, 7, 9]  \n",
    "add_indexes([5, 4, 3, 2, 1]) ➞ [5, 5, 5, 5, 5]"
   ]
  },
  {
   "cell_type": "code",
   "execution_count": 12,
   "id": "3c04ea0d",
   "metadata": {},
   "outputs": [
    {
     "name": "stdout",
     "output_type": "stream",
     "text": [
      "[0, 1, 2, 3, 4]\n",
      "[1, 3, 5, 7, 9]\n",
      "[5, 5, 5, 5, 5]\n"
     ]
    }
   ],
   "source": [
    "def add_indexes(lst):\n",
    "    return [i+lst[i] for i in range(len(lst))]\n",
    "\n",
    "print(add_indexes([0,0,0,0,0]))\n",
    "print(add_indexes([1,2,3,4,5]))\n",
    "print(add_indexes([5,4,3,2,1]))"
   ]
  },
  {
   "cell_type": "markdown",
   "id": "eda4adab",
   "metadata": {},
   "source": [
    "=============================================================================================================="
   ]
  },
  {
   "cell_type": "markdown",
   "id": "9ca291f0",
   "metadata": {},
   "source": [
    "## Question3  \n",
    "Create a function that takes the height and radius of a cone as arguments and returns the volume of the cone rounded to the nearest hundredth. See the resources tab for the formula.  \n",
    "Examples  \n",
    "cone_volume(3, 2) ➞ 12.57  \n",
    "cone_volume(15, 6) ➞ 565.49  \n",
    "cone_volume(18, 0) ➞ 0\n",
    "\n",
    "formula  \n",
    "V = (1/3) * pi * r^2 * h  \n",
    "r = radius  \n",
    "h = height  \n"
   ]
  },
  {
   "cell_type": "code",
   "execution_count": 13,
   "id": "77a9bf45",
   "metadata": {},
   "outputs": [
    {
     "data": {
      "text/plain": [
       "12.566370614359172"
      ]
     },
     "execution_count": 13,
     "metadata": {},
     "output_type": "execute_result"
    }
   ],
   "source": [
    "import math\n",
    "def cone_volume(h,r):\n",
    "    return (1/3) * math.pi * (r**2) * h\n",
    "\n",
    "cone_volume(3,2)"
   ]
  },
  {
   "cell_type": "markdown",
   "id": "4059b888",
   "metadata": {},
   "source": [
    "=============================================================================================================="
   ]
  },
  {
   "cell_type": "markdown",
   "id": "90c69099",
   "metadata": {},
   "source": [
    "## Question4  \n",
    "This Triangular Number Sequence is generated from a pattern of dots that form a triangle. The first 5 numbers of the sequence, or dots, are:   1, 3, 6, 10, 15  \n",
    "This means that the first triangle has just one dot, the second one has three dots, the third one has 6 dots and so on.  \n",
    "Write a function that gives the number of dots with its corresponding triangle number of the sequence.  \n",
    "Examples  \n",
    "triangle(1) ➞ 1  \n",
    "triangle(6) ➞ 21  \n",
    "triangle(215) ➞ 23220  "
   ]
  },
  {
   "cell_type": "code",
   "execution_count": 18,
   "id": "e8a1c1bd",
   "metadata": {},
   "outputs": [
    {
     "data": {
      "text/plain": [
       "23220"
      ]
     },
     "execution_count": 18,
     "metadata": {},
     "output_type": "execute_result"
    }
   ],
   "source": [
    "triangle = lambda n: int((n * (n+1)) / 2)\n",
    "triangle(215)"
   ]
  },
  {
   "cell_type": "markdown",
   "id": "1833ce2b",
   "metadata": {},
   "source": [
    "=============================================================================================================="
   ]
  },
  {
   "cell_type": "markdown",
   "id": "91099bd1",
   "metadata": {},
   "source": [
    "## Question5  \n",
    "Create a function that takes a list of numbers between 1 and 10 (excluding one number) and returns the missing number.  \n",
    "Examples  \n",
    "missing_num([1, 2, 3, 4, 6, 7, 8, 9, 10]) ➞ 5  \n",
    "missing_num([7, 2, 3, 6, 5, 9, 1, 4, 8]) ➞ 10   \n",
    "missing_num([10, 5, 1, 2, 4, 6, 8, 3, 9]) ➞ 7  "
   ]
  },
  {
   "cell_type": "code",
   "execution_count": 26,
   "id": "b83e3686",
   "metadata": {},
   "outputs": [
    {
     "data": {
      "text/plain": [
       "5"
      ]
     },
     "execution_count": 26,
     "metadata": {},
     "output_type": "execute_result"
    }
   ],
   "source": [
    "def missing_num(l):\n",
    "    for i in range(1,10):\n",
    "            if i not in l:\n",
    "                return i\n",
    "            \n",
    "l = [1,2,3,4,6,7,8,9,0]\n",
    "missing_num(l)"
   ]
  },
  {
   "cell_type": "markdown",
   "id": "a3a76264",
   "metadata": {},
   "source": [
    "=============================================================================================================="
   ]
  }
 ],
 "metadata": {
  "kernelspec": {
   "display_name": "Python 3",
   "language": "python",
   "name": "python3"
  },
  "language_info": {
   "codemirror_mode": {
    "name": "ipython",
    "version": 3
   },
   "file_extension": ".py",
   "mimetype": "text/x-python",
   "name": "python",
   "nbconvert_exporter": "python",
   "pygments_lexer": "ipython3",
   "version": "3.6.2"
  }
 },
 "nbformat": 4,
 "nbformat_minor": 5
}
