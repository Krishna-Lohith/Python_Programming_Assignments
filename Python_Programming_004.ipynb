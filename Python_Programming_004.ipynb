{
 "cells": [
  {
   "cell_type": "markdown",
   "id": "30d356ed",
   "metadata": {},
   "source": [
    "# Python_Programming_Assignment__004"
   ]
  },
  {
   "cell_type": "markdown",
   "id": "d0829607",
   "metadata": {},
   "source": [
    "**Concepts used:-**  \n",
    "loops   \n",
    "conditions  "
   ]
  },
  {
   "cell_type": "markdown",
   "id": "7c3a229c",
   "metadata": {},
   "source": [
    "=============================================================================================================="
   ]
  },
  {
   "cell_type": "markdown",
   "id": "b1e05ad4",
   "metadata": {},
   "source": [
    "### 1. Write a Python Program to Find the Factorial of a Number?"
   ]
  },
  {
   "cell_type": "code",
   "execution_count": 5,
   "id": "2676e7ff",
   "metadata": {},
   "outputs": [
    {
     "data": {
      "text/plain": [
       "1307674368000"
      ]
     },
     "execution_count": 5,
     "metadata": {},
     "output_type": "execute_result"
    }
   ],
   "source": [
    "# Factorial\n",
    "\n",
    "def q1(a:int)->int:\n",
    "    \"\"\"\n",
    "    Enter a number to find the factorial of the number\n",
    "    \"\"\"\n",
    "    c=1\n",
    "    for i in range(1,a+1):\n",
    "        c=c*i\n",
    "    return c\n",
    "q1(15)"
   ]
  },
  {
   "cell_type": "markdown",
   "id": "575101ce",
   "metadata": {},
   "source": [
    "=============================================================================================================="
   ]
  },
  {
   "cell_type": "markdown",
   "id": "2e289cd3",
   "metadata": {},
   "source": [
    "### 2. Write a Python Program to Display the multiplication Table?"
   ]
  },
  {
   "cell_type": "code",
   "execution_count": 6,
   "id": "a43d6905",
   "metadata": {},
   "outputs": [
    {
     "name": "stdout",
     "output_type": "stream",
     "text": [
      "5 * 1 =  5\n",
      "5 * 2 =  10\n",
      "5 * 3 =  15\n",
      "5 * 4 =  20\n",
      "5 * 5 =  25\n",
      "5 * 6 =  30\n",
      "5 * 7 =  35\n",
      "5 * 8 =  40\n",
      "5 * 9 =  45\n",
      "5 * 10 =  50\n"
     ]
    }
   ],
   "source": [
    "#Multiplication table\n",
    "\n",
    "def q2(a):\n",
    "    for i in range(1,11):\n",
    "        b = a * i\n",
    "        print(f'{a} * {i} =  {b}')\n",
    "q2(5)"
   ]
  },
  {
   "cell_type": "markdown",
   "id": "a5119318",
   "metadata": {},
   "source": [
    "=============================================================================================================="
   ]
  },
  {
   "cell_type": "markdown",
   "id": "2779e769",
   "metadata": {},
   "source": [
    "### 3. Write a Python Program to Print the Fibonacci sequence?"
   ]
  },
  {
   "cell_type": "code",
   "execution_count": 7,
   "id": "09fd95da",
   "metadata": {},
   "outputs": [
    {
     "name": "stdout",
     "output_type": "stream",
     "text": [
      "1\n",
      "1\n",
      "2\n",
      "3\n",
      "5\n",
      "8\n",
      "13\n",
      "21\n",
      "34\n",
      "55\n"
     ]
    }
   ],
   "source": [
    "#Fibonacci series.\n",
    "\n",
    "a=0\n",
    "b=1\n",
    "for i in range(0,10):\n",
    "    c = a+b\n",
    "    b = a\n",
    "    a = c\n",
    "    print(c)"
   ]
  },
  {
   "cell_type": "markdown",
   "id": "c7444d6e",
   "metadata": {},
   "source": [
    "=============================================================================================================="
   ]
  },
  {
   "cell_type": "markdown",
   "id": "548757da",
   "metadata": {},
   "source": [
    "### 4. Write a Python Program to Check Armstrong Number?"
   ]
  },
  {
   "cell_type": "code",
   "execution_count": 8,
   "id": "5a647cdf",
   "metadata": {},
   "outputs": [
    {
     "name": "stdout",
     "output_type": "stream",
     "text": [
      "Armstrong number\n"
     ]
    }
   ],
   "source": [
    "# Armstrong number\n",
    "\n",
    "def q4(n : int) -> bool:\n",
    "    \"\"\"\n",
    "    Check for a armstrong number\n",
    "    \"\"\"\n",
    "    m = str(n)\n",
    "    l = len(m)\n",
    "    c=0\n",
    "    for i in m:\n",
    "        p = int(i)\n",
    "        c = c + (p**l)\n",
    "    if n == c:\n",
    "        print('Armstrong number')\n",
    "    else:\n",
    "        print('Not a Armstrong number')\n",
    "q4(54748)"
   ]
  },
  {
   "cell_type": "markdown",
   "id": "6e1dff05",
   "metadata": {},
   "source": [
    "=============================================================================================================="
   ]
  },
  {
   "cell_type": "markdown",
   "id": "517f56d3",
   "metadata": {},
   "source": [
    "### 5. Write a Python Program to Find Armstrong Number in an Interval?"
   ]
  },
  {
   "cell_type": "code",
   "execution_count": 9,
   "id": "cb038645",
   "metadata": {},
   "outputs": [
    {
     "name": "stdout",
     "output_type": "stream",
     "text": [
      "1\n",
      "2\n",
      "3\n",
      "4\n",
      "5\n",
      "6\n",
      "7\n",
      "8\n",
      "9\n",
      "153\n",
      "370\n",
      "370\n",
      "371\n",
      "407\n",
      "1634\n",
      "6688\n",
      "8208\n",
      "9474\n",
      "33286\n",
      "54748\n",
      "91818\n",
      "91819\n",
      "92727\n",
      "93084\n"
     ]
    }
   ],
   "source": [
    "# Armstrong\n",
    "\n",
    "s = 1\n",
    "e = 100000\n",
    "\n",
    "for i in range(s,e+1):\n",
    "    m = str(i)\n",
    "    n = len(m)\n",
    "    c=0\n",
    "    for j in m:\n",
    "        p = int(j)\n",
    "        c = c + (p**n)\n",
    "        if c == i:\n",
    "            print(i)"
   ]
  },
  {
   "cell_type": "markdown",
   "id": "2342783f",
   "metadata": {},
   "source": [
    "=============================================================================================================="
   ]
  },
  {
   "cell_type": "markdown",
   "id": "4bb8c990",
   "metadata": {},
   "source": [
    "### 6. Write a Python Program to Find the Sum of Natural Numbers?"
   ]
  },
  {
   "cell_type": "code",
   "execution_count": 10,
   "id": "0db1cd08",
   "metadata": {},
   "outputs": [
    {
     "data": {
      "text/plain": [
       "5050"
      ]
     },
     "execution_count": 10,
     "metadata": {},
     "output_type": "execute_result"
    }
   ],
   "source": [
    "# Sum of natural numbers.\n",
    "\n",
    "def q6(a):\n",
    "    c=0\n",
    "    for i in range(1,a+1):\n",
    "        c = c + i\n",
    "    return c\n",
    "q6(100)"
   ]
  },
  {
   "cell_type": "markdown",
   "id": "4f13263a",
   "metadata": {},
   "source": [
    "=============================================================================================================="
   ]
  }
 ],
 "metadata": {
  "kernelspec": {
   "display_name": "Python 3",
   "language": "python",
   "name": "python3"
  },
  "language_info": {
   "codemirror_mode": {
    "name": "ipython",
    "version": 3
   },
   "file_extension": ".py",
   "mimetype": "text/x-python",
   "name": "python",
   "nbconvert_exporter": "python",
   "pygments_lexer": "ipython3",
   "version": "3.6.2"
  }
 },
 "nbformat": 4,
 "nbformat_minor": 5
}
