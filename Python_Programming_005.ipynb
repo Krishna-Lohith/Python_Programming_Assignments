{
 "cells": [
  {
   "cell_type": "markdown",
   "id": "ccfde90e",
   "metadata": {},
   "source": [
    "# Python_Programming_Assignment_005"
   ]
  },
  {
   "cell_type": "markdown",
   "id": "2d323023",
   "metadata": {},
   "source": [
    "**Concenpts used:-**    \n",
    "functions    \n",
    "loops      \n",
    "if and else condition  \n",
    "try and catch  \n",
    "notations  \n",
    "\n",
    "**Topics covered:-**    \n",
    "LCM  \n",
    "HCF  \n",
    "Convertion - Decimal, Binary, Octal, Hexal  \n",
    "ASCII  \n",
    "Calculator  "
   ]
  },
  {
   "cell_type": "markdown",
   "id": "fa869609",
   "metadata": {},
   "source": [
    "=============================================================================================================="
   ]
  },
  {
   "cell_type": "markdown",
   "id": "cb180558",
   "metadata": {},
   "source": [
    "## 1. Write a Python Program to Find LCM?"
   ]
  },
  {
   "cell_type": "code",
   "execution_count": 1,
   "id": "a2fca818",
   "metadata": {},
   "outputs": [
    {
     "data": {
      "text/plain": [
       "72.0"
      ]
     },
     "execution_count": 1,
     "metadata": {},
     "output_type": "execute_result"
    }
   ],
   "source": [
    "# LCM\n",
    "\n",
    "def hcf(a:int , b:int)->int :\n",
    "    \"\"\"\n",
    "    program to find HCF for 2 numbers\"\"\"\n",
    "    try:\n",
    "        m = min(a,b)\n",
    "        c=0\n",
    "        for i in range(1,m+1):\n",
    "            if a%i==0 and b%i==0:\n",
    "                c = i\n",
    "        return c\n",
    "    except Exception as e:\n",
    "        print('Error occured:- ',e)\n",
    "        \n",
    "def lcm(a,b):\n",
    "    n = (a*b)/hcf(a,b)\n",
    "    return n\n",
    "\n",
    "lcm(24,36)"
   ]
  },
  {
   "cell_type": "markdown",
   "id": "4691ea3d",
   "metadata": {},
   "source": [
    "=============================================================================================================="
   ]
  },
  {
   "cell_type": "markdown",
   "id": "4e5087d9",
   "metadata": {},
   "source": [
    "## 2. Write a Python Program to Find HCF?"
   ]
  },
  {
   "cell_type": "code",
   "execution_count": 2,
   "id": "b1bccfa7",
   "metadata": {},
   "outputs": [
    {
     "data": {
      "text/plain": [
       "12"
      ]
     },
     "execution_count": 2,
     "metadata": {},
     "output_type": "execute_result"
    }
   ],
   "source": [
    "# HCF\n",
    "\n",
    "def hcf(a:int , b:int)->int :\n",
    "    \"\"\"\n",
    "    program to find HCF for 2 numbers\"\"\"\n",
    "    try:\n",
    "        m = min(a,b)\n",
    "        c=0\n",
    "        for i in range(1,m+1):\n",
    "            if a%i==0 and b%i==0:\n",
    "                c = i\n",
    "        return c\n",
    "    except Exception as e:\n",
    "        print('Error occured:- ',e)\n",
    "    \n",
    "hcf(24,36)"
   ]
  },
  {
   "cell_type": "markdown",
   "id": "f0332887",
   "metadata": {},
   "source": [
    "=============================================================================================================="
   ]
  },
  {
   "cell_type": "markdown",
   "id": "ae23107e",
   "metadata": {},
   "source": [
    "## 3. Write a Python Program to Convert Decimal to Binary, Octal and Hexadecimal?"
   ]
  },
  {
   "cell_type": "code",
   "execution_count": 5,
   "id": "13f392f2",
   "metadata": {},
   "outputs": [
    {
     "name": "stdout",
     "output_type": "stream",
     "text": [
      "Enter a number:- 3\n",
      "Decimal to Binary:-  11\n",
      "Decimal to octal:-  3\n",
      "Decimal to hexa:-  3\n"
     ]
    }
   ],
   "source": [
    "# Decimal to binary, octal, hexadecimal\n",
    "\n",
    "x = int(input('Enter a number:- '))\n",
    "def q3_binary(n):\n",
    "    binary=''\n",
    "    while n>0:\n",
    "        binary = str(n%2) + binary\n",
    "        n = n//2\n",
    "    return binary\n",
    "print('Decimal to Binary:- ',q3_binary(x))\n",
    "\n",
    "def q3_octal(n):\n",
    "    octal=''\n",
    "    while n>0:\n",
    "        octal = str(n%8) + octal\n",
    "        n=n//8\n",
    "    return octal\n",
    "print('Decimal to octal:- ',q3_octal(x))\n",
    "\n",
    "def q3_hexa(n):\n",
    "    h='0123456789ABCDEF'\n",
    "    c = ''\n",
    "    while n>0:\n",
    "        r = n%16\n",
    "        c = h[r] + c\n",
    "        n = n//16\n",
    "    return c\n",
    "print('Decimal to hexa:- ',q3_hexa(x))"
   ]
  },
  {
   "cell_type": "markdown",
   "id": "e1059f9d",
   "metadata": {},
   "source": [
    "=============================================================================================================="
   ]
  },
  {
   "cell_type": "markdown",
   "id": "5e33b49d",
   "metadata": {},
   "source": [
    "## 4. Write a Python Program To Find ASCII value of a character?"
   ]
  },
  {
   "cell_type": "code",
   "execution_count": 7,
   "id": "c6b61f28",
   "metadata": {},
   "outputs": [
    {
     "data": {
      "text/plain": [
       "90"
      ]
     },
     "execution_count": 7,
     "metadata": {},
     "output_type": "execute_result"
    }
   ],
   "source": [
    "# ASCII values\n",
    "\n",
    "#65 - 90 A to Z\n",
    "#97 - 122 a to z\n",
    "\n",
    "def q4_upper(n):\n",
    "    try:\n",
    "        upper='ABCDEFGHIJKLMNOPQRSTUVWXYZ'\n",
    "        lower='abcdefghijklmnopqrstuvwxyz'\n",
    "        if n.isupper():\n",
    "            return upper.find(n) + 97\n",
    "        else:\n",
    "            return lower.find(n) + 65\n",
    "    except Exception as e:\n",
    "        print(e, 'Note:- Please enter only aplhabets')\n",
    "q4_upper('z')"
   ]
  },
  {
   "cell_type": "markdown",
   "id": "58e0add6",
   "metadata": {},
   "source": [
    "=============================================================================================================="
   ]
  },
  {
   "cell_type": "markdown",
   "id": "5d4b1bd0",
   "metadata": {},
   "source": [
    "## 5. Write a Python Program to Make a Simple Calculator with 4 basic mathematical operations?"
   ]
  },
  {
   "cell_type": "code",
   "execution_count": 8,
   "id": "ebd67658",
   "metadata": {},
   "outputs": [
    {
     "name": "stdout",
     "output_type": "stream",
     "text": [
      "Enter an operation to perform(+,-,*,%,/,//):- +\n"
     ]
    },
    {
     "data": {
      "text/plain": [
       "5"
      ]
     },
     "execution_count": 8,
     "metadata": {},
     "output_type": "execute_result"
    }
   ],
   "source": [
    "# Calculator\n",
    "\n",
    "def q5_calcu(a,b):\n",
    "    try:\n",
    "        x = input('Enter an operation to perform(+,-,*,%,/,//):- ')\n",
    "        if x == '+':\n",
    "            return a+b\n",
    "        elif x=='-':\n",
    "            return a-b\n",
    "        elif x == '*':\n",
    "            return a*b\n",
    "        elif x == '%':\n",
    "            return a%b\n",
    "        elif x == '/':\n",
    "            return a/b\n",
    "        elif x == '//':\n",
    "            return a//b\n",
    "        else:\n",
    "            print('Invalid operation')\n",
    "    except Exception as e:\n",
    "        print(e)\n",
    "        \n",
    "q5_calcu(2,3)"
   ]
  },
  {
   "cell_type": "code",
   "execution_count": 9,
   "id": "e9b693c6",
   "metadata": {},
   "outputs": [],
   "source": [
    "# Calculator for multiple values\n",
    "\n",
    "def calci(*a):\n",
    "    try:\n",
    "        x = input('Enter an operation to perform(+,-,*,%,/,//):- ')\n",
    "        if x=='+':\n",
    "            c=0\n",
    "            for i in a:\n",
    "                c = c + i\n",
    "            return c\n",
    "        elif x=='-':\n",
    "            c=a[0]\n",
    "            for i in a[1:]:\n",
    "                c = c - i\n",
    "            return c\n",
    "        elif x=='*':\n",
    "            c=1\n",
    "            for i in a:\n",
    "                c = c * i\n",
    "            return c\n",
    "        elif x=='%':\n",
    "            c=a[0]\n",
    "            for i in a[1:]:\n",
    "                c = c % i\n",
    "            return c\n",
    "        elif x=='/':\n",
    "            c=a[0]\n",
    "            for i in a[1:]:\n",
    "                c = c / i\n",
    "            return c\n",
    "        elif x=='//':\n",
    "            c=a[0]\n",
    "            for i in a[1:]:\n",
    "                c = c // i\n",
    "            return c\n",
    "        else:\n",
    "            print('Invalid operation')\n",
    "    except Exception as e:\n",
    "        print(e)\n",
    "        \n",
    "calci(2,3,4,5)"
   ]
  },
  {
   "cell_type": "markdown",
   "id": "95f207c2",
   "metadata": {},
   "source": [
    "=============================================================================================================="
   ]
  }
 ],
 "metadata": {
  "kernelspec": {
   "display_name": "Python 3",
   "language": "python",
   "name": "python3"
  },
  "language_info": {
   "codemirror_mode": {
    "name": "ipython",
    "version": 3
   },
   "file_extension": ".py",
   "mimetype": "text/x-python",
   "name": "python",
   "nbconvert_exporter": "python",
   "pygments_lexer": "ipython3",
   "version": "3.6.2"
  }
 },
 "nbformat": 4,
 "nbformat_minor": 5
}
