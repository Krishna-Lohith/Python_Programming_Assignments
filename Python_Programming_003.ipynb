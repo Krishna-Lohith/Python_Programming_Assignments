{
 "cells": [
  {
   "cell_type": "markdown",
   "id": "aff71059",
   "metadata": {},
   "source": [
    "# Python_Programming_Assignment__003"
   ]
  },
  {
   "cell_type": "markdown",
   "id": "dfefaddf",
   "metadata": {},
   "source": [
    "**Concenpts used:-**    \n",
    "loops    \n",
    "if, else        "
   ]
  },
  {
   "cell_type": "markdown",
   "id": "c1156245",
   "metadata": {},
   "source": [
    "=============================================================================================================="
   ]
  },
  {
   "cell_type": "markdown",
   "id": "cc9505c9",
   "metadata": {},
   "source": [
    "## 1. Write a Python Program to Check if a Number is Positive, Negative or Zero?"
   ]
  },
  {
   "cell_type": "code",
   "execution_count": 1,
   "id": "ceba3f72",
   "metadata": {},
   "outputs": [
    {
     "name": "stdout",
     "output_type": "stream",
     "text": [
      "-7 is negative\n"
     ]
    }
   ],
   "source": [
    "def q1(a):\n",
    "    \"\"\"\n",
    "    Enter a number to check positive or negetive or zero\n",
    "    \"\"\"\n",
    "    if a>=1:\n",
    "        print(f'{a} is positive')\n",
    "    elif a==0:\n",
    "        print(f'{a} is zero')\n",
    "    else:\n",
    "        print(f'{a} is negative')\n",
    "q1(-7)"
   ]
  },
  {
   "cell_type": "markdown",
   "id": "736e237e",
   "metadata": {},
   "source": [
    "=============================================================================================================="
   ]
  },
  {
   "cell_type": "markdown",
   "id": "95ef5d27",
   "metadata": {},
   "source": [
    "## 2. Write a Python Program to Check if a Number is Odd or Even?"
   ]
  },
  {
   "cell_type": "code",
   "execution_count": 2,
   "id": "d9995e3c",
   "metadata": {},
   "outputs": [
    {
     "name": "stdout",
     "output_type": "stream",
     "text": [
      "3 is Odd\n"
     ]
    }
   ],
   "source": [
    "def q2(a):\n",
    "    \"\"\"\n",
    "    Enter a number to check Even or odd\n",
    "    \"\"\"\n",
    "    if a%2 == 0:\n",
    "        print(f'{a} is Even')\n",
    "    else:\n",
    "        print(f'{a} is Odd')\n",
    "q2(3)"
   ]
  },
  {
   "cell_type": "markdown",
   "id": "3f79f983",
   "metadata": {},
   "source": [
    "=============================================================================================================="
   ]
  },
  {
   "cell_type": "markdown",
   "id": "6928871a",
   "metadata": {},
   "source": [
    "## 3. Write a Python Program to Check Leap Year?"
   ]
  },
  {
   "cell_type": "code",
   "execution_count": 3,
   "id": "f01ef978",
   "metadata": {},
   "outputs": [
    {
     "name": "stdout",
     "output_type": "stream",
     "text": [
      "2020 is a leap year\n"
     ]
    }
   ],
   "source": [
    "def q3(a)->bool:\n",
    "    \"\"\"\n",
    "    Enter a year to check for leap year\n",
    "    \"\"\"\n",
    "    if a%4==0 and a%100!=0:\n",
    "        print(f'{a} is a leap year')\n",
    "    elif a%100==0 and a%400==0:\n",
    "        print(f'{a} is a leap year')\n",
    "    else:\n",
    "        print(f'{a} is not a leap year')\n",
    "q3(2020)"
   ]
  },
  {
   "cell_type": "markdown",
   "id": "e00500eb",
   "metadata": {},
   "source": [
    "=============================================================================================================="
   ]
  },
  {
   "cell_type": "markdown",
   "id": "41ffe397",
   "metadata": {},
   "source": [
    "## 4. Write a Python Program to Check Prime Number?"
   ]
  },
  {
   "cell_type": "code",
   "execution_count": 4,
   "id": "2902c839",
   "metadata": {},
   "outputs": [
    {
     "name": "stdout",
     "output_type": "stream",
     "text": [
      "4 is not a prime number\n"
     ]
    }
   ],
   "source": [
    "def q4(a:int)->bool:\n",
    "    \"\"\"\n",
    "    Enter a positive number to check for prime numbers\"\"\"\n",
    "    c=0\n",
    "    if a>1:\n",
    "        for i in range(1,a+1):\n",
    "            for j in range(1,a+1):\n",
    "                if i * j == a:\n",
    "                    c=c+1\n",
    "        if c==2:\n",
    "            print(f'{a} is a prime number')\n",
    "        else:\n",
    "            print(f'{a} is not a prime number')\n",
    "q4(4)"
   ]
  },
  {
   "cell_type": "markdown",
   "id": "26c5c3af",
   "metadata": {},
   "source": [
    "=============================================================================================================="
   ]
  },
  {
   "cell_type": "markdown",
   "id": "10cef62a",
   "metadata": {},
   "source": [
    "## 5. Write a Python Program to Print all Prime Numbers in an Interval of 1-10000?"
   ]
  },
  {
   "cell_type": "code",
   "execution_count": 5,
   "id": "d3df9a26",
   "metadata": {},
   "outputs": [
    {
     "name": "stdout",
     "output_type": "stream",
     "text": [
      "[2, 3, 5, 7, 11, 13, 17, 19, 23, 29, 31, 37, 41, 43, 47, 53, 59, 61, 67, 71, 73, 79, 83, 89, 97]\n"
     ]
    }
   ],
   "source": [
    "def q4(a,b):\n",
    "    \"\"\"\n",
    "    Enter a positive start and end numbers to check for prime numbers\n",
    "    \"\"\"\n",
    "    l=[]\n",
    "    if a>0 and b>0 :\n",
    "        for i in range(a,b):\n",
    "            c=0\n",
    "            for j in range(1,i+1):\n",
    "                for k in range(1,i+1):\n",
    "                    if j * k == i:\n",
    "                        c=c+1\n",
    "            if c==2:\n",
    "                l.append(i)\n",
    "        print(l)\n",
    "q4(1,100)"
   ]
  },
  {
   "cell_type": "markdown",
   "id": "fad1bae7",
   "metadata": {},
   "source": [
    "=============================================================================================================="
   ]
  }
 ],
 "metadata": {
  "kernelspec": {
   "display_name": "Python 3",
   "language": "python",
   "name": "python3"
  },
  "language_info": {
   "codemirror_mode": {
    "name": "ipython",
    "version": 3
   },
   "file_extension": ".py",
   "mimetype": "text/x-python",
   "name": "python",
   "nbconvert_exporter": "python",
   "pygments_lexer": "ipython3",
   "version": "3.6.2"
  }
 },
 "nbformat": 4,
 "nbformat_minor": 5
}
