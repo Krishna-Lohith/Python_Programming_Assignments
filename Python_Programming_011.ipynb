{
 "cells": [
  {
   "cell_type": "markdown",
   "id": "dc8a4920",
   "metadata": {},
   "source": [
    "# Python_Programming_Assignment_011"
   ]
  },
  {
   "cell_type": "markdown",
   "id": "8515c6bc",
   "metadata": {},
   "source": [
    "**Concepts used:-**    \n",
    "strings  \n",
    "functions\n",
    "\n",
    "**Topics covered**:-  \n",
    "Split  \n",
    "Joint  \n",
    "Removing  \n",
    "Duplicates  \n",
    "Keywords  "
   ]
  },
  {
   "cell_type": "markdown",
   "id": "aa97c5bc",
   "metadata": {},
   "source": [
    "=============================================================================================================="
   ]
  },
  {
   "cell_type": "markdown",
   "id": "dc0bb646",
   "metadata": {},
   "source": [
    "## 1. Write a Python program to find words which are greater than given length k?"
   ]
  },
  {
   "cell_type": "code",
   "execution_count": 22,
   "id": "27796b79",
   "metadata": {},
   "outputs": [
    {
     "name": "stdout",
     "output_type": "stream",
     "text": [
      "krishna\n",
      "lohith\n",
      "biryani\n",
      "which\n",
      "yesterday\n"
     ]
    }
   ],
   "source": [
    "def q1(s,k):\n",
    "    try:\n",
    "        s = s.split()\n",
    "        for i in s:\n",
    "            if len(i) > k:\n",
    "                print(i)\n",
    "    except Exception as e:\n",
    "        print(e)\n",
    "\n",
    "q1('Hi krishna lohith how is the biryani which you ate yesterday',3)"
   ]
  },
  {
   "cell_type": "markdown",
   "id": "63c9dc3a",
   "metadata": {},
   "source": [
    "=============================================================================================================="
   ]
  },
  {
   "cell_type": "markdown",
   "id": "741c3f51",
   "metadata": {},
   "source": [
    "## 2. Write a Python program for removing i-th character from a string?"
   ]
  },
  {
   "cell_type": "code",
   "execution_count": 30,
   "id": "b8949cb2",
   "metadata": {},
   "outputs": [
    {
     "data": {
      "text/plain": [
       "'Pyhon'"
      ]
     },
     "execution_count": 30,
     "metadata": {},
     "output_type": "execute_result"
    }
   ],
   "source": [
    "def q2(string,character):\n",
    "    return s.replace(character, '')\n",
    "\n",
    "q2('python','t')"
   ]
  },
  {
   "cell_type": "markdown",
   "id": "a83b81b6",
   "metadata": {},
   "source": [
    "=============================================================================================================="
   ]
  },
  {
   "cell_type": "markdown",
   "id": "118d4b7e",
   "metadata": {},
   "source": [
    "## 3. Write a Python program to split and join a string?"
   ]
  },
  {
   "cell_type": "code",
   "execution_count": 66,
   "id": "13f2c980",
   "metadata": {},
   "outputs": [
    {
     "data": {
      "text/plain": [
       "(('split:- ', ['krishna', 'lohith']), ('join:- ', 'krishna - lohith'))"
      ]
     },
     "execution_count": 66,
     "metadata": {},
     "output_type": "execute_result"
    }
   ],
   "source": [
    "def q2(string):\n",
    "    s = string.split()\n",
    "    j =' - '.join(s)\n",
    "    return ('split:- ',s), ('join:- ',j)\n",
    "    \n",
    "q2('krishna lohith')"
   ]
  },
  {
   "cell_type": "markdown",
   "id": "1c0bf630",
   "metadata": {},
   "source": [
    "=============================================================================================================="
   ]
  },
  {
   "cell_type": "markdown",
   "id": "016f04d0",
   "metadata": {},
   "source": [
    "## 4. Write a Python to check if a given string is binary string or not?"
   ]
  },
  {
   "cell_type": "code",
   "execution_count": 70,
   "id": "2afaa018",
   "metadata": {},
   "outputs": [
    {
     "data": {
      "text/plain": [
       "True"
      ]
     },
     "execution_count": 70,
     "metadata": {},
     "output_type": "execute_result"
    }
   ],
   "source": [
    "def q4(string):\n",
    "    for i in string:\n",
    "        if i in ['0','1']:\n",
    "            return True\n",
    "        else:\n",
    "            return False\n",
    "q4('10101010010101')"
   ]
  },
  {
   "cell_type": "markdown",
   "id": "4a9103a6",
   "metadata": {},
   "source": [
    "=============================================================================================================="
   ]
  },
  {
   "cell_type": "markdown",
   "id": "8f61d229",
   "metadata": {},
   "source": [
    "## 5. Write a Python program to find uncommon words from two Strings?"
   ]
  },
  {
   "cell_type": "code",
   "execution_count": 105,
   "id": "76d2a5e3",
   "metadata": {},
   "outputs": [
    {
     "data": {
      "text/plain": [
       "{'h', 'k', 'n', 'r'}"
      ]
     },
     "execution_count": 105,
     "metadata": {},
     "output_type": "execute_result"
    }
   ],
   "source": [
    "def q5(string1, string2):\n",
    "    try:\n",
    "        w1 = set(string1)\n",
    "        w2 = set(string2)\n",
    "        u1 = w1.difference(w2)\n",
    "        u2 = w2.difference(w1)\n",
    "        uncommon_words = u1.union(u2)\n",
    "        return uncommon_words\n",
    "    except Exception as e:\n",
    "        print(e)\n",
    "    \n",
    "q5('krishna','isa')"
   ]
  },
  {
   "cell_type": "markdown",
   "id": "62ea6000",
   "metadata": {},
   "source": [
    "=============================================================================================================="
   ]
  },
  {
   "cell_type": "markdown",
   "id": "62a72582",
   "metadata": {},
   "source": [
    "## 6. Write a Python to find all duplicate characters in string?"
   ]
  },
  {
   "cell_type": "code",
   "execution_count": 131,
   "id": "cd4e2084",
   "metadata": {},
   "outputs": [
    {
     "data": {
      "text/plain": [
       "{'h', 'o'}"
      ]
     },
     "execution_count": 131,
     "metadata": {},
     "output_type": "execute_result"
    }
   ],
   "source": [
    "def q6(string):\n",
    "    try:\n",
    "        duplicates = set()\n",
    "        unique = set()\n",
    "        for i in s:\n",
    "            if i in unique:\n",
    "                duplicates.add(i)\n",
    "            else:\n",
    "                unique.add(i)\n",
    "        return duplicates\n",
    "    except Exception as e:\n",
    "        print(e)\n",
    "        \n",
    "q6('lohitho')"
   ]
  },
  {
   "cell_type": "markdown",
   "id": "191b1802",
   "metadata": {},
   "source": [
    "=============================================================================================================="
   ]
  },
  {
   "cell_type": "markdown",
   "id": "fe1bd9b3",
   "metadata": {},
   "source": [
    "## 7. Write a Python Program to check if a string contains any special character?"
   ]
  },
  {
   "cell_type": "code",
   "execution_count": 139,
   "id": "a5d8911c",
   "metadata": {},
   "outputs": [
    {
     "name": "stdout",
     "output_type": "stream",
     "text": [
      "!\n",
      "?\n"
     ]
    }
   ],
   "source": [
    "def q7(s):\n",
    "    k = [ '!','@','#','$','?','%','^','&','*','(',')','-','_','+','=','{','}','[',']', '/', '\\',' ]\n",
    "    for i in s:\n",
    "        if i in k:\n",
    "            print(i)\n",
    "q7(\" krishna are you there! What's the time now? \")"
   ]
  },
  {
   "cell_type": "markdown",
   "id": "bad28fa4",
   "metadata": {},
   "source": [
    "=============================================================================================================="
   ]
  }
 ],
 "metadata": {
  "kernelspec": {
   "display_name": "Python 3",
   "language": "python",
   "name": "python3"
  },
  "language_info": {
   "codemirror_mode": {
    "name": "ipython",
    "version": 3
   },
   "file_extension": ".py",
   "mimetype": "text/x-python",
   "name": "python",
   "nbconvert_exporter": "python",
   "pygments_lexer": "ipython3",
   "version": "3.6.2"
  }
 },
 "nbformat": 4,
 "nbformat_minor": 5
}
