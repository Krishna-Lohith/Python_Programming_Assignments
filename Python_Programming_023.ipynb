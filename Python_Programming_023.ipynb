{
 "cells": [
  {
   "cell_type": "markdown",
   "id": "77e30e7c",
   "metadata": {},
   "source": [
    "# Python_Programming_Assignment_023"
   ]
  },
  {
   "cell_type": "markdown",
   "id": "e528ae72",
   "metadata": {},
   "source": [
    "**Topics covered:-**  \n",
    "strings  "
   ]
  },
  {
   "cell_type": "markdown",
   "id": "48bfa731",
   "metadata": {},
   "source": [
    "=============================================================================================================="
   ]
  },
  {
   "cell_type": "markdown",
   "id": "4438b750",
   "metadata": {},
   "source": [
    "## Question 1  \n",
    "Create a function that takes a number as an argument and returns True or False depending on whether the number is symmetrical or not. A number is symmetrical when it is the same as its reverse.  \n",
    "Examples  \n",
    "is_symmetrical(7227) ➞ True  \n",
    "is_symmetrical(12567) ➞ False  \n",
    "is_symmetrical(44444444) ➞ True  \n",
    "is_symmetrical(9939) ➞ False  \n",
    "is_symmetrical(1112111) ➞ True  "
   ]
  },
  {
   "cell_type": "code",
   "execution_count": 40,
   "id": "af02f435",
   "metadata": {},
   "outputs": [],
   "source": [
    "def is_symmetrical(n):\n",
    "    s = str(n)\n",
    "    length = int(len(s))\n",
    "    if length %2==0:\n",
    "        half = length//2\n",
    "        re = s[half:]\n",
    "        if s[:half] == re[::-1]:\n",
    "            return 'True'\n",
    "        else:\n",
    "            return 'False'\n",
    "    else:\n",
    "        half = length//2\n",
    "        re = s[half+1:]\n",
    "        if s[:half] == re[::-1]:\n",
    "            return 'True'\n",
    "        else:\n",
    "            return 'False'"
   ]
  },
  {
   "cell_type": "code",
   "execution_count": 47,
   "id": "a1dcc602",
   "metadata": {},
   "outputs": [
    {
     "name": "stdout",
     "output_type": "stream",
     "text": [
      "True\n",
      "False\n",
      "True\n",
      "False\n",
      "True\n"
     ]
    }
   ],
   "source": [
    "print(is_symmetrical(7227))\n",
    "print(is_symmetrical(12567))\n",
    "print(is_symmetrical(44444444))\n",
    "print(is_symmetrical(9939))\n",
    "print(is_symmetrical(1112111))"
   ]
  },
  {
   "cell_type": "code",
   "execution_count": 49,
   "id": "fdc1c2a9",
   "metadata": {},
   "outputs": [
    {
     "name": "stdout",
     "output_type": "stream",
     "text": [
      "True\n",
      "False\n",
      "True\n",
      "False\n",
      "True\n"
     ]
    }
   ],
   "source": [
    "def is_symmetrical(num):\n",
    "    return str(num) == str(num)[::-1]\n",
    "\n",
    "print(is_symmetrical(7227))\n",
    "print(is_symmetrical(12567))\n",
    "print(is_symmetrical(44444444))\n",
    "print(is_symmetrical(9939))\n",
    "print(is_symmetrical(1112111))"
   ]
  },
  {
   "cell_type": "markdown",
   "id": "f2e75502",
   "metadata": {},
   "source": [
    "=============================================================================================================="
   ]
  },
  {
   "cell_type": "markdown",
   "id": "ea9a5b56",
   "metadata": {},
   "source": [
    "## Question 2  \n",
    "Given a string of numbers separated by a comma and space, return the product of the numbers.  \n",
    "Examples  \n",
    "multiply_nums(&quot;2, 3&quot;) ➞ 6  \n",
    "multiply_nums(&quot;1, 2, 3, 4&quot;) ➞ 24  \n",
    "multiply_nums(&quot;54, 75, 453, 0&quot;) ➞ 0  \n",
    "multiply_nums(&quot;10, -2&quot;) ➞ -20  "
   ]
  },
  {
   "cell_type": "code",
   "execution_count": 63,
   "id": "913afff5",
   "metadata": {},
   "outputs": [
    {
     "data": {
      "text/plain": [
       "24"
      ]
     },
     "execution_count": 63,
     "metadata": {},
     "output_type": "execute_result"
    }
   ],
   "source": [
    "def multiply_nums(s):\n",
    "    s =s.split(', ')\n",
    "    p = 1\n",
    "    for i in s:\n",
    "        p *= int(i)\n",
    "    return p\n",
    "\n",
    "multiply_nums((\"1, 2, 3, 4\"))"
   ]
  },
  {
   "cell_type": "markdown",
   "id": "5c7e1fef",
   "metadata": {},
   "source": [
    "=============================================================================================================="
   ]
  },
  {
   "cell_type": "markdown",
   "id": "7c88a0b2",
   "metadata": {},
   "source": [
    "## Question 3  \n",
    "Create a function that squares every digit of a number.  \n",
    "Examples  \n",
    "square_digits(9119) ➞ 811181  \n",
    "square_digits(2483) ➞ 416649  \n",
    "square_digits(3212) ➞ 9414  \n",
    "Notes  \n",
    "The function receives an integer and must return an integer.  "
   ]
  },
  {
   "cell_type": "code",
   "execution_count": 78,
   "id": "6bbf72b7",
   "metadata": {},
   "outputs": [
    {
     "data": {
      "text/plain": [
       "811181"
      ]
     },
     "execution_count": 78,
     "metadata": {},
     "output_type": "execute_result"
    }
   ],
   "source": [
    "def square_digits(n):\n",
    "    s= str(n)\n",
    "    c = ''\n",
    "    for i in s:\n",
    "        i = int(i)**2\n",
    "        c += str(i) \n",
    "    return int(c)\n",
    "    \n",
    "square_digits(9119)"
   ]
  },
  {
   "cell_type": "markdown",
   "id": "e5124cbc",
   "metadata": {},
   "source": [
    "=============================================================================================================="
   ]
  },
  {
   "cell_type": "markdown",
   "id": "abae431d",
   "metadata": {},
   "source": [
    "## Question 4   \n",
    "Create a function that sorts a list and removes all duplicate items from it.  \n",
    "Examples  \n",
    "setify([1, 3, 3, 5, 5]) ➞ [1, 3, 5]  \n",
    "setify([4, 4, 4, 4]) ➞ [4]  \n",
    "setify([5, 7, 8, 9, 10, 15]) ➞ [5, 7, 8, 9, 10, 15]  \n",
    "setify([3, 3, 3, 2, 1]) ➞ [1, 2, 3]  "
   ]
  },
  {
   "cell_type": "code",
   "execution_count": 79,
   "id": "62ddee94",
   "metadata": {},
   "outputs": [
    {
     "data": {
      "text/plain": [
       "[1, 3, 5]"
      ]
     },
     "execution_count": 79,
     "metadata": {},
     "output_type": "execute_result"
    }
   ],
   "source": [
    "def setify(l):\n",
    "    return sorted(set(l))\n",
    "\n",
    "setify([1,3,3,5,5])"
   ]
  },
  {
   "cell_type": "markdown",
   "id": "6e73f0a1",
   "metadata": {},
   "source": [
    "=============================================================================================================="
   ]
  },
  {
   "cell_type": "markdown",
   "id": "3f1c2c6f",
   "metadata": {},
   "source": [
    "## Question 5  \n",
    "Create a function that returns the mean of all digits.  \n",
    "Examples  \n",
    "mean(42) ➞ 3  \n",
    "mean(12345) ➞ 3  \n",
    "mean(666) ➞ 6  \n",
    "Notes  \n",
    " The mean of all digits is the sum of digits / how many digits there are (e.g. mean of digits in 512 is (5+1+2)/3(number of digits) = 8/3=2).  \n",
    " The mean will always be an integer.  "
   ]
  },
  {
   "cell_type": "code",
   "execution_count": 90,
   "id": "e96a565a",
   "metadata": {},
   "outputs": [
    {
     "data": {
      "text/plain": [
       "3"
      ]
     },
     "execution_count": 90,
     "metadata": {},
     "output_type": "execute_result"
    }
   ],
   "source": [
    "def mean(n):\n",
    "    x=0\n",
    "    s = str(n)\n",
    "    for i in s:\n",
    "        x += int(i)\n",
    "    return x//len(s)\n",
    "\n",
    "mean(42)"
   ]
  },
  {
   "cell_type": "markdown",
   "id": "4216cb76",
   "metadata": {},
   "source": [
    "=============================================================================================================="
   ]
  }
 ],
 "metadata": {
  "kernelspec": {
   "display_name": "Python 3",
   "language": "python",
   "name": "python3"
  },
  "language_info": {
   "codemirror_mode": {
    "name": "ipython",
    "version": 3
   },
   "file_extension": ".py",
   "mimetype": "text/x-python",
   "name": "python",
   "nbconvert_exporter": "python",
   "pygments_lexer": "ipython3",
   "version": "3.6.2"
  }
 },
 "nbformat": 4,
 "nbformat_minor": 5
}
