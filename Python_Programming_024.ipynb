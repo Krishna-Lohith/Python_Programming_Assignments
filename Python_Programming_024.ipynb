{
 "cells": [
  {
   "cell_type": "markdown",
   "id": "0558424f",
   "metadata": {},
   "source": [
    "# Python_Programming_Assignment_024"
   ]
  },
  {
   "cell_type": "markdown",
   "id": "89267283",
   "metadata": {},
   "source": [
    "**Topics covered:-**  \n",
    "string functions      "
   ]
  },
  {
   "cell_type": "markdown",
   "id": "30b2eca2",
   "metadata": {},
   "source": [
    "=============================================================================================================="
   ]
  },
  {
   "cell_type": "markdown",
   "id": "f0145d72",
   "metadata": {},
   "source": [
    "## Question1  \n",
    "Create a function that takes an integer and returns a list from 1 to the given number, where:  \n",
    "1. If the number can be divided evenly by 4, amplify it by 10 (i.e. return 10 times the number).  \n",
    "2. If the number cannot be divided evenly by 4, simply return the number.  \n",
    "Examples  \n",
    "amplify(4) ➞ [1, 2, 3, 40]  \n",
    "amplify(3) ➞ [1, 2, 3]  \n",
    "amplify(25) ➞ [1, 2, 3, 40, 5, 6, 7, 80, 9, 10, 11, 120, 13, 14, 15, 160, 17, 18, 19, 200, 21, 22, 23, 240, 25]  \n",
    "Notes  \n",
    " The given integer will always be equal to or greater than 1.  \n",
    " Include the number (see example above).  \n",
    " To perform this problem with its intended purpose, try doing it with list comprehensions. If that&#39;s too difficult, just solve the challenge any way you can.  "
   ]
  },
  {
   "cell_type": "code",
   "execution_count": 16,
   "id": "6179f5ed",
   "metadata": {},
   "outputs": [
    {
     "data": {
      "text/plain": [
       "[1, 2, 3, 40, 5, 6, 7, 80, 9, 10, 11, 120, 13, 14, 15, 160, 17, 18, 19, 200]"
      ]
     },
     "execution_count": 16,
     "metadata": {},
     "output_type": "execute_result"
    }
   ],
   "source": [
    "def amplify(n):\n",
    "    l = []\n",
    "    for i in range(1,n+1):\n",
    "        if i%4==0:\n",
    "            l.append(i*10)\n",
    "        else:\n",
    "            l.append(i)\n",
    "    return l\n",
    "    \n",
    "amplify(20)"
   ]
  },
  {
   "cell_type": "markdown",
   "id": "95594e53",
   "metadata": {},
   "source": [
    "=============================================================================================================="
   ]
  },
  {
   "cell_type": "markdown",
   "id": "7f7820ac",
   "metadata": {},
   "source": [
    "## Question2  \n",
    "Create a function that takes a list of numbers and return the number that&#39;s unique.  \n",
    "Examples  \n",
    "unique([3, 3, 3, 7, 3, 3]) ➞ 7  \n",
    "unique([0, 0, 0.77, 0, 0]) ➞ 0.77  \n",
    "unique([0, 1, 1, 1, 1, 1, 1, 1]) ➞ 0  \n",
    "Notes  \n",
    "Test cases will always have exactly one unique number while all others are the same.  "
   ]
  },
  {
   "cell_type": "code",
   "execution_count": 30,
   "id": "19a22e1f",
   "metadata": {},
   "outputs": [
    {
     "name": "stdout",
     "output_type": "stream",
     "text": [
      "7\n"
     ]
    }
   ],
   "source": [
    "def unique(l):\n",
    "    c=0\n",
    "    for i in l:\n",
    "        if l.count(i) == 1:\n",
    "            print(i)\n",
    "    return \n",
    "\n",
    "unique([3, 3, 3, 7, 3, 3])"
   ]
  },
  {
   "cell_type": "markdown",
   "id": "44a30e3c",
   "metadata": {},
   "source": [
    "=============================================================================================================="
   ]
  },
  {
   "cell_type": "markdown",
   "id": "ca048ba0",
   "metadata": {},
   "source": [
    "## Question3  \n",
    "Your task is to create a Circle constructor that creates a circle with a radius provided by an argument. The circles constructed must have two getters getArea() (PIr^2) and getPerimeter() (2PI*r) which give both respective areas and perimeter (circumference).  \n",
    "\n",
    "For help with this class, I have provided you with a Rectangle constructor which you can use as a base example.  \n",
    "Examples  \n",
    "circy = Circle(11)  \n",
    "circy.getArea()  \n",
    "Should return 380.132711084365  \n",
    "circy = Circle(4.44)  \n",
    "circy.getPerimeter()  \n",
    "Should return 27.897342763877365  \n",
    "Notes   \n",
    "Round results up to the nearest integer.  "
   ]
  },
  {
   "cell_type": "code",
   "execution_count": 33,
   "id": "86effa01",
   "metadata": {},
   "outputs": [],
   "source": [
    "import math\n",
    "\n",
    "class Circle:\n",
    "    def __init__(self, radius):\n",
    "        self.radius = radius\n",
    "        \n",
    "    def getArea(self):\n",
    "        area = math.pi * self.radius ** 2\n",
    "        return area\n",
    "    \n",
    "    def getPerimeter(self):\n",
    "        perimeter = 2 * math.pi * self.radius\n",
    "        return perimeter\n"
   ]
  },
  {
   "cell_type": "code",
   "execution_count": 34,
   "id": "875a0350",
   "metadata": {},
   "outputs": [
    {
     "data": {
      "text/plain": [
       "380.132711084365"
      ]
     },
     "execution_count": 34,
     "metadata": {},
     "output_type": "execute_result"
    }
   ],
   "source": [
    "circy = Circle(11)\n",
    "circy.getArea()"
   ]
  },
  {
   "cell_type": "code",
   "execution_count": 35,
   "id": "fdcaab8e",
   "metadata": {},
   "outputs": [
    {
     "data": {
      "text/plain": [
       "27.897342763877365"
      ]
     },
     "execution_count": 35,
     "metadata": {},
     "output_type": "execute_result"
    }
   ],
   "source": [
    "circy = Circle(4.44)\n",
    "circy.getPerimeter()"
   ]
  },
  {
   "cell_type": "markdown",
   "id": "21d071a7",
   "metadata": {},
   "source": [
    "=============================================================================================================="
   ]
  },
  {
   "cell_type": "markdown",
   "id": "20e4aa77",
   "metadata": {},
   "source": [
    "## Question4  \n",
    "Create a function that takes a list of strings and return a list, sorted from shortest to longest.  \n",
    "Examples  \n",
    "sort_by_length([&quot;Google&quot;, &quot;Apple&quot;, &quot;Microsoft&quot;])  \n",
    "➞ [&quot;Apple&quot;, &quot;Google&quot;, &quot;Microsoft&quot;]  \n",
    "sort_by_length([&quot;Leonardo&quot;, &quot;Michelangelo&quot;, &quot;Raphael&quot;, &quot;Donatello&quot;])  \n",
    "➞ [&quot;Raphael&quot;, &quot;Leonardo&quot;, &quot;Donatello&quot;, &quot;Michelangelo&quot;]  \n",
    "sort_by_length([&quot;Turing&quot;, &quot;Einstein&quot;, &quot;Jung&quot;])  \n",
    "➞ [&quot;Jung&quot;, &quot;Turing&quot;, &quot;Einstein&quot;]  \n",
    "Notes  \n",
    "All test cases contain lists with strings of different lengths, so you won&#39;t have to deal with multiple strings of the same length.  "
   ]
  },
  {
   "cell_type": "code",
   "execution_count": 120,
   "id": "38d0f86b",
   "metadata": {},
   "outputs": [],
   "source": [
    "def sort_by_length(l):\n",
    "    return sorted(l, key=len)"
   ]
  },
  {
   "cell_type": "code",
   "execution_count": 121,
   "id": "751c84be",
   "metadata": {},
   "outputs": [
    {
     "data": {
      "text/plain": [
       "['Raphael', 'Leonardo', 'Donatello', 'Michelangelo']"
      ]
     },
     "execution_count": 121,
     "metadata": {},
     "output_type": "execute_result"
    }
   ],
   "source": [
    "sort_by_length([\"Leonardo\", \"Michelangelo\", \"Raphael\", \"Donatello\"])"
   ]
  },
  {
   "cell_type": "markdown",
   "id": "cc513fba",
   "metadata": {},
   "source": [
    "=============================================================================================================="
   ]
  },
  {
   "cell_type": "markdown",
   "id": "31568bf0",
   "metadata": {},
   "source": [
    "## Question5  \n",
    "Create a function that validates whether three given integers form a Pythagorean triplet. The sum of the squares of the two smallest integers must equal the square of the largest number to be validated.  \n",
    "\n",
    "Examples  \n",
    "is_triplet(3, 4, 5) ➞ True  \n",
    "3² + 4² = 25  \n",
    "5² = 25  \n",
    "is_triplet(13, 5, 12) ➞ True  \n",
    "5² + 12² = 169  \n",
    "13² = 169  \n",
    "is_triplet(1, 2, 3) ➞ False  \n",
    "1² + 2² = 5  \n",
    "3² = 9  \n",
    "Notes  \n",
    "Numbers may not be given in a sorted order.  "
   ]
  },
  {
   "cell_type": "code",
   "execution_count": 135,
   "id": "413af520",
   "metadata": {},
   "outputs": [
    {
     "data": {
      "text/plain": [
       "False"
      ]
     },
     "execution_count": 135,
     "metadata": {},
     "output_type": "execute_result"
    }
   ],
   "source": [
    "def is_triplet(*t):\n",
    "    s = sorted(t)\n",
    "    return s[0]**2 + s[1]**2 == s[2]**2\n",
    "\n",
    "is_triplet(1,3,5)"
   ]
  },
  {
   "cell_type": "markdown",
   "id": "94605c0d",
   "metadata": {},
   "source": [
    "=============================================================================================================="
   ]
  }
 ],
 "metadata": {
  "kernelspec": {
   "display_name": "Python 3",
   "language": "python",
   "name": "python3"
  },
  "language_info": {
   "codemirror_mode": {
    "name": "ipython",
    "version": 3
   },
   "file_extension": ".py",
   "mimetype": "text/x-python",
   "name": "python",
   "nbconvert_exporter": "python",
   "pygments_lexer": "ipython3",
   "version": "3.6.2"
  }
 },
 "nbformat": 4,
 "nbformat_minor": 5
}
