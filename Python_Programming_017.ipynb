{
 "cells": [
  {
   "cell_type": "markdown",
   "id": "9045be9e",
   "metadata": {},
   "source": [
    "# Python_Programming_Assignment_017"
   ]
  },
  {
   "cell_type": "markdown",
   "id": "3fef2015",
   "metadata": {},
   "source": [
    "**Topics covered:-**  \n",
    "functions  \n",
    "operators  \n",
    "string   "
   ]
  },
  {
   "cell_type": "markdown",
   "id": "fc45ba41",
   "metadata": {},
   "source": [
    "=============================================================================================================="
   ]
  },
  {
   "cell_type": "markdown",
   "id": "77b2d1d3",
   "metadata": {},
   "source": [
    "## Question1.   \n",
    "Create a function that takes three arguments a, b, c and returns the sum of the numbers that are evenly divided by c from the range a, b inclusive.  \n",
    "Examples  \n",
    "evenly_divisible(1, 10, 20) ➞ 0  \n",
    "No number between 1 and 10 can be evenly divided by 20.  \n",
    "evenly_divisible(1, 10, 2) ➞ 30  \n",
    "2 + 4 + 6 + 8 + 10 = 30  \n",
    "evenly_divisible(1, 10, 3) ➞ 18 \n",
    "3 + 6 + 9 = 18 "
   ]
  },
  {
   "cell_type": "code",
   "execution_count": 9,
   "id": "d85ca544",
   "metadata": {},
   "outputs": [
    {
     "name": "stdout",
     "output_type": "stream",
     "text": [
      "2\n",
      "4\n",
      "6\n",
      "8\n",
      "10\n"
     ]
    }
   ],
   "source": [
    "def evenly_divisible(a,b,c):\n",
    "    for i in range(a,b+1):\n",
    "        if i%c==0:\n",
    "            print(i)\n",
    "            \n",
    "evenly_divisible(1,10,2)"
   ]
  },
  {
   "cell_type": "markdown",
   "id": "13100e06",
   "metadata": {},
   "source": [
    "=============================================================================================================="
   ]
  },
  {
   "cell_type": "markdown",
   "id": "961fcf0e",
   "metadata": {},
   "source": [
    "## Question2.   \n",
    "Create a function that returns True if a given inequality expression is correct and False otherwise.  \n",
    "Examples  \n",
    "correct_signs(&quot;3 &lt; 7 &lt; 11&quot;) ➞ True  \n",
    "correct_signs(&quot;13 &gt; 44 &gt; 33 &gt; 1&quot;) ➞ False  \n",
    "correct_signs(&quot;1 &lt; 2 &lt; 6 &lt; 9 &gt; 3&quot;) ➞ True  "
   ]
  },
  {
   "cell_type": "code",
   "execution_count": 16,
   "id": "aeef715e",
   "metadata": {},
   "outputs": [],
   "source": [
    "import re\n",
    "def correct_signs(expr):\n",
    "    # Split the expression into individual parts (numbers and signs)\n",
    "    parts = re.findall(r'\\d+|[><=]', expr)\n",
    "    \n",
    "    # Loop through the parts and check if the signs are correct\n",
    "    for i in range(0, len(parts)-2, 2):\n",
    "        if parts[i+1] == '<' and int(parts[i]) >= int(parts[i+2]):\n",
    "            return False\n",
    "        elif parts[i+1] == '>' and int(parts[i]) <= int(parts[i+2]):\n",
    "            return False\n",
    "    \n",
    "    return True\n"
   ]
  },
  {
   "cell_type": "code",
   "execution_count": 17,
   "id": "d188ed96",
   "metadata": {},
   "outputs": [
    {
     "data": {
      "text/plain": [
       "True"
      ]
     },
     "execution_count": 17,
     "metadata": {},
     "output_type": "execute_result"
    }
   ],
   "source": [
    "correct_signs(\"3 < 7 < 11\")"
   ]
  },
  {
   "cell_type": "markdown",
   "id": "7423190a",
   "metadata": {},
   "source": [
    "=============================================================================================================="
   ]
  },
  {
   "cell_type": "markdown",
   "id": "339e6d67",
   "metadata": {},
   "source": [
    "### Question3. Create a function that replaces all the vowels in a string with a specified character.  \n",
    "Examples  \n",
    "replace_vowels(&quot;the aardvark&quot;, &quot;#&quot;) ➞ &quot;th# ##rdv#rk&quot;  \n",
    "replace_vowels(&quot;minnie mouse&quot;, &quot;?&quot;) ➞ &quot;m?nn?? m??s?&quot;  \n",
    "replace_vowels(&quot;shakespeare&quot;, &quot;*&quot;) ➞ &quot;sh*k*sp**r*&quot;  "
   ]
  },
  {
   "cell_type": "code",
   "execution_count": 36,
   "id": "ff821425",
   "metadata": {},
   "outputs": [
    {
     "data": {
      "text/plain": [
       "' m?nn?? m??s?'"
      ]
     },
     "execution_count": 36,
     "metadata": {},
     "output_type": "execute_result"
    }
   ],
   "source": [
    "s = \"minnie mouse\"\n",
    "c = \"?\"\n",
    "\n",
    "def replace_vowels(s,c):\n",
    "    v=  \" \"\n",
    "    for i in s:\n",
    "        if i in ['a','e','i','o','u']:\n",
    "            v += c\n",
    "        else:\n",
    "            v += i\n",
    "    return v\n",
    "\n",
    "replace_vowels(\"minnie mouse\", \"?\")"
   ]
  },
  {
   "cell_type": "markdown",
   "id": "b966a4f9",
   "metadata": {},
   "source": [
    "=============================================================================================================="
   ]
  },
  {
   "cell_type": "markdown",
   "id": "3f9649ee",
   "metadata": {},
   "source": [
    "## Question4.   \n",
    "Write a function that calculates the factorial of a number recursively.  \n",
    "Examples  \n",
    "factorial(5) ➞ 120  \n",
    "factorial(3) ➞ 6  \n",
    "factorial(1) ➞ 1  \n",
    "factorial(0) ➞ 1"
   ]
  },
  {
   "cell_type": "code",
   "execution_count": 42,
   "id": "1a9e4026",
   "metadata": {},
   "outputs": [
    {
     "data": {
      "text/plain": [
       "120"
      ]
     },
     "execution_count": 42,
     "metadata": {},
     "output_type": "execute_result"
    }
   ],
   "source": [
    "def fact(n):\n",
    "    if n > 1:\n",
    "        n = n * fact(n-1)\n",
    "    return n\n",
    "\n",
    "fact(5)"
   ]
  },
  {
   "cell_type": "markdown",
   "id": "6cf4aa66",
   "metadata": {},
   "source": [
    "=============================================================================================================="
   ]
  },
  {
   "cell_type": "markdown",
   "id": "65b6966f",
   "metadata": {},
   "source": [
    "## Question 5  \n",
    "Hamming distance is the number of characters that differ between two strings.  \n",
    "To illustrate:  \n",
    "String1: &quot;a bcbba&quot;  \n",
    "String2: &quot;abcbda&quot;  \n",
    "Hamming Distance: 1 - &quot;b&quot; vs. &quot;d&quot; is the only difference.  \n",
    "Create a function that computes the hamming distance between two strings.  \n",
    "Examples  \n",
    "hamming_distance(&quot;abcde&quot;, &quot;bcdef&quot;) ➞ 5  \n",
    "hamming_distance(&quot;abcde&quot;, &quot;abcde&quot;) ➞ 0  \n",
    "hamming_distance(&quot;strong&quot;, &quot;strung&quot;) ➞ 1  "
   ]
  },
  {
   "cell_type": "code",
   "execution_count": 49,
   "id": "5b8c4fc4",
   "metadata": {},
   "outputs": [
    {
     "data": {
      "text/plain": [
       "1"
      ]
     },
     "execution_count": 49,
     "metadata": {},
     "output_type": "execute_result"
    }
   ],
   "source": [
    "def hamming_distance(str1, str2):\n",
    "    # Make sure the strings are the same length\n",
    "    if len(str1) != len(str2):\n",
    "        raise ValueError(\"Strings must be the same length\")\n",
    "    \n",
    "    # Count the number of characters that differ\n",
    "    count = 0\n",
    "    for c1, c2 in zip(str1, str2):\n",
    "        if c1 != c2:\n",
    "            count += 1\n",
    "    \n",
    "    return count\n",
    "\n",
    "hamming_distance(\"strong\", \"strung\")"
   ]
  },
  {
   "cell_type": "markdown",
   "id": "7b6b3dc8",
   "metadata": {},
   "source": [
    "=============================================================================================================="
   ]
  }
 ],
 "metadata": {
  "kernelspec": {
   "display_name": "Python 3",
   "language": "python",
   "name": "python3"
  },
  "language_info": {
   "codemirror_mode": {
    "name": "ipython",
    "version": 3
   },
   "file_extension": ".py",
   "mimetype": "text/x-python",
   "name": "python",
   "nbconvert_exporter": "python",
   "pygments_lexer": "ipython3",
   "version": "3.6.2"
  }
 },
 "nbformat": 4,
 "nbformat_minor": 5
}
